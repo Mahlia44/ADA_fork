{
 "cells": [
  {
   "attachments": {},
   "cell_type": "markdown",
   "metadata": {},
   "source": [
    "H0 but without pandas"
   ]
  },
  {
   "cell_type": "code",
   "execution_count": 5,
   "metadata": {},
   "outputs": [
    {
     "name": "stdout",
     "output_type": "stream",
     "text": [
      "['\"\",\"Intent\",\"Gender\",\"Age\",\"Race\",\"Deaths\",\"Population\",\"Rate\"', '\"1\",\"None selected\",\"None selected\",\"None selected\",\"None selected\",33599,316299978,10.6', '\"2\",\"None selected\",\"None selected\",\"None selected\",\"White\",22079,197369634,11.2', '\"3\",\"None selected\",\"None selected\",\"None selected\",\"Black\",7765,38896382,20', '\"4\",\"None selected\",\"None selected\",\"None selected\",\"Hispanic\",3007,54049078,5.6']\n"
     ]
    }
   ],
   "source": [
    "# open the data and store the lines in a list\n",
    "\n",
    "with open('interactive_data.csv', 'r') as file:\n",
    "    lines = [line.rstrip() for line in file]\n",
    "    print(lines[:5])\n"
   ]
  },
  {
   "cell_type": "code",
   "execution_count": 14,
   "metadata": {},
   "outputs": [],
   "source": [
    "# remove the none selected\n",
    "\n",
    "filtered_lines = []\n",
    "for line in lines:\n",
    "    if \"None selected\" not in line:\n",
    "        filtered_lines.append(line)"
   ]
  },
  {
   "cell_type": "code",
   "execution_count": 15,
   "metadata": {},
   "outputs": [
    {
     "data": {
      "text/plain": [
       "['\"\",\"Intent\",\"Gender\",\"Age\",\"Race\",\"Deaths\",\"Population\",\"Rate\"',\n",
       " '\"152\",\"Suicide\",\"Female\",\"Under 15\",\"White\",19,15355910,0.1',\n",
       " '\"153\",\"Suicide\",\"Female\",\"Under 15\",\"Black\",1,4095428,0',\n",
       " '\"154\",\"Suicide\",\"Female\",\"Under 15\",\"Hispanic\",4,7330024,0.1',\n",
       " '\"155\",\"Suicide\",\"Female\",\"Under 15\",\"Asian/Pacific Islander\",1,1393440,0.1']"
      ]
     },
     "execution_count": 15,
     "metadata": {},
     "output_type": "execute_result"
    }
   ],
   "source": [
    "filtered_lines[:5]\n"
   ]
  },
  {
   "cell_type": "code",
   "execution_count": 27,
   "metadata": {},
   "outputs": [],
   "source": [
    "# count the total number of deaths\n",
    "\n",
    "deaths_tot = 0\n",
    "\n",
    "for line in filtered_lines[1:]:\n",
    "    # On enlève les guillemets et on sépare par des virgules\n",
    "    elements = line.replace('\"', '').split(',')\n",
    "    # Accéder au troisième élément en partant de la fin\n",
    "    deaths = elements[-3]  # Indice -3 pour accéder au 3ème élément depuis la fin\n",
    "    # print(type(deaths))\n",
    "    deaths_tot += int(deaths)"
   ]
  },
  {
   "cell_type": "code",
   "execution_count": 31,
   "metadata": {},
   "outputs": [],
   "source": [
    "# count the number of suicides\n",
    "\n",
    "count_suicide = 0\n",
    "for line in filtered_lines[1:]:\n",
    "    # only when there is a suicide\n",
    "    if \"Suicide\" in line:\n",
    "        elements = line.replace('\"', '').split(',')\n",
    "        deaths = elements[-3]\n",
    "        count_suicide += int(deaths)"
   ]
  },
  {
   "cell_type": "code",
   "execution_count": 34,
   "metadata": {},
   "outputs": [
    {
     "name": "stdout",
     "output_type": "stream",
     "text": [
      "62.68194671826165% of gun deaths are suicides.\n"
     ]
    }
   ],
   "source": [
    "print(f'{count_suicide/deaths_tot*100}% of gun deaths are suicides.')"
   ]
  },
  {
   "cell_type": "code",
   "execution_count": 40,
   "metadata": {},
   "outputs": [],
   "source": [
    "# count the number of male suicides\n",
    "\n",
    "count_male_suicide = 0\n",
    "for line in filtered_lines[1:]:\n",
    "    # only when there is a suicide\n",
    "    if \"Suicide\" in line:\n",
    "        if \"Male\" in line:\n",
    "            elements = line.replace('\"', '').split(',')\n",
    "            deaths = elements[-3]\n",
    "            count_male_suicide += int(deaths)"
   ]
  },
  {
   "cell_type": "code",
   "execution_count": 42,
   "metadata": {},
   "outputs": [
    {
     "name": "stdout",
     "output_type": "stream",
     "text": [
      "86.24275809668535% of gun deaths are male suicides.\n"
     ]
    }
   ],
   "source": [
    "print(f'{count_male_suicide/count_suicide*100}% of gun deaths are male suicides.')"
   ]
  },
  {
   "cell_type": "code",
   "execution_count": 55,
   "metadata": {},
   "outputs": [],
   "source": [
    "# count the number of homicides\n",
    "\n",
    "count_homicide = 0\n",
    "for line in filtered_lines[1:]:\n",
    "    # only when there is a suicide\n",
    "    if \"Homicide\" in line:\n",
    "        elements = line.replace('\"', '').split(',')\n",
    "        deaths = elements[-3]\n",
    "        count_homicide += int(deaths)"
   ]
  },
  {
   "cell_type": "code",
   "execution_count": 56,
   "metadata": {},
   "outputs": [
    {
     "name": "stdout",
     "output_type": "stream",
     "text": [
      "34.906980205387704% of gun deaths are homicides.\n"
     ]
    }
   ],
   "source": [
    "print(f'{count_homicide/deaths_tot*100}% of gun deaths are homicides.')"
   ]
  },
  {
   "cell_type": "code",
   "execution_count": 50,
   "metadata": {},
   "outputs": [],
   "source": [
    "# count very specific\n",
    "\n",
    "count_homi = 0\n",
    "count_black_homi = 0\n",
    "for line in filtered_lines[1:]:\n",
    "    # only when there is a suicide\n",
    "    if \"Homicide\" in line:\n",
    "        if \"Male\" in line:\n",
    "            if \"15 - 34\" in line:\n",
    "                elements = line.replace('\"', '').split(',')\n",
    "                deaths = elements[-3]\n",
    "                count_homi += int(deaths)\n",
    "                if \"Black\" in line:\n",
    "                    elements = line.replace('\"', '').split(',')\n",
    "                    deaths = elements[-3]\n",
    "                    count_black_homi += int(deaths)"
   ]
  },
  {
   "cell_type": "code",
   "execution_count": 52,
   "metadata": {},
   "outputs": [
    {
     "name": "stdout",
     "output_type": "stream",
     "text": [
      "66.12482748044778% of gun deaths are suicides.\n"
     ]
    }
   ],
   "source": [
    "print(f'{count_black_homi/count_homi*100}% of gun deaths are suicides.')"
   ]
  },
  {
   "cell_type": "code",
   "execution_count": 58,
   "metadata": {},
   "outputs": [],
   "source": [
    "# count the number of homicides\n",
    "\n",
    "count_w_homicide = 0\n",
    "for line in filtered_lines[1:]:\n",
    "    # only when there is a suicide\n",
    "    if \"Homicide\" in line:\n",
    "        if \"Female\" in line:\n",
    "            elements = line.replace('\"', '').split(',')\n",
    "            deaths = elements[-3]\n",
    "            count_w_homicide += int(deaths)"
   ]
  },
  {
   "cell_type": "code",
   "execution_count": 59,
   "metadata": {},
   "outputs": [
    {
     "name": "stdout",
     "output_type": "stream",
     "text": [
      "15.289502856655583% of gun deaths are suicides.\n"
     ]
    }
   ],
   "source": [
    "print(f'{count_w_homicide/count_homicide*100}% of gun deaths are suicides.')"
   ]
  },
  {
   "cell_type": "code",
   "execution_count": null,
   "metadata": {},
   "outputs": [],
   "source": []
  }
 ],
 "metadata": {
  "kernelspec": {
   "display_name": "MA1",
   "language": "python",
   "name": "python3"
  },
  "language_info": {
   "codemirror_mode": {
    "name": "ipython",
    "version": 3
   },
   "file_extension": ".py",
   "mimetype": "text/x-python",
   "name": "python",
   "nbconvert_exporter": "python",
   "pygments_lexer": "ipython3",
   "version": "3.12.2"
  },
  "orig_nbformat": 4
 },
 "nbformat": 4,
 "nbformat_minor": 2
}
