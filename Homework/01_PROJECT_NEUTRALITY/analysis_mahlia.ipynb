{
 "cells": [
  {
   "cell_type": "markdown",
   "id": "579b567a-2b80-4bf1-8cc1-c514da76ca50",
   "metadata": {},
   "source": [
    "# (ADA) Homework 1: Scoring the Language Model Olympics\n",
    "\n",
    "---\n",
    "\n",
    "By the end of this homework, we expect you to be able to:\n",
    "\n",
    "- Load data and handle data using pandas;\n",
    "- Navigate the documentation of Python packages by yourself;\n",
    "- Filter and tidy up noisy real-world datasets;\n",
    "- Aggregate your data in different (and hopefully helpful) ways;\n",
    "- Create meaningful visualizations to analyze the data;\n",
    "- Communicate your findings in a clear and concise manner\n",
    "\n",
    "---\n",
    "\n",
    "**Important Dates.**\n",
    "\n",
    "- Homework release: Fri 04 Oct 2024\n",
    "- Homework due: Sat 18 Oct 2024, 23:59\n",
    "- Grade release: Mon 04 Nov 2024\n",
    "\n",
    "**Some rules**\n",
    "\n",
    "- You are allowed to use any built-in Python library that comes with Anaconda. If you want to use an external library, you may do so, but must justify your choice.\n",
    "- Make sure you use the data folder provided in the repository in read-only mode. (Or alternatively, be sure you don’t change any of the files.)\n",
    "- Be sure to provide a concise textual description of your thought process, the assumptions you made, the solution you implemented, and explanations for your answers. A notebook that only has code cells will not suffice. To avoid confusion: use short comments for longer code answers.\n",
    "- For questions containing the /Discuss:/ prefix, answer not with code, but with a textual explanation (in markdown).\n",
    "- Back up any hypotheses and claims with data, since this is an important aspect of the course.\n",
    "- Please write all your comments in English, and use meaningful variable names in your code. Your repo should have a single notebook (plus the required data files) in the master/main branch. If there are multiple notebooks present, we will not grade anything.\n",
    "- We will not run your notebook for you! Rather, we will grade it as is, which means that only the results contained in your evaluated code cells will be considered, and we will not see the results in unevaluated code cells. Thus, be sure to hand in a fully-run and evaluated notebook. In order to check whether everything looks as intended, you can check the rendered notebook on the GitHub website once you have pushed your solution there.\n",
    "- In continuation to the previous point, interactive plots, such as those generated using the ‘plotly’ package, should be strictly avoided! Make sure to print results and/or dataframes that confirm you have properly addressed the task.\n",
    "\n",
    "**A Note on using Language Models (LMs)**\n",
    "\n",
    "If you try hard enough, you will likely get away with cheating. Fortunately, our job is not to police, but rather to educate! So, please consider the following:\n",
    "- Presumably, you are taking this course to learn something! LMs are not always right ([they often fail in silly ways](https://community.openai.com/t/why-9-11-is-larger-than-9-9-incredible/869824/4)). This course should prepare you to detect when they are wrong!\n",
    "- Some of the TAs on this course literally published many works on detecting machine-generated text.\n",
    "---"
   ]
  },
  {
   "cell_type": "markdown",
   "id": "4f85896e-c0ae-4ae3-af41-46149faa2278",
   "metadata": {},
   "source": [
    "## Context\n",
    "\n",
    "Context\n",
    "AI is booming! Newspapers, influencers, and your relatives all agree that AI is important. But while almost everyone agrees that AI is the future, much is unclear about what that future looks like…\n",
    "\n",
    "Freshly graduated from the EPFL, you are hired by the Swiss government to advise on a large-scale “AI integration” initiative code-named **\"NEUTRALITY\"** (Navigating Efficient Upgrades Through Robust Artificial Learning Integration Techniques Yearly). Convinced by the stunning progress in language modeling, the government would like to battle the growing shortages in the education sector by using LMs. Your job description: investigate which LMs might be best suited!\n",
    "\n",
    "You are given the results of three LMs on the [“Massive Multitask Language Understanding (MMLU)”](https://arxiv.org/abs/2009.03300) dataset to compare. This famous dataset consists of 57 subjects with multiple-choice questions, covering diverse subjects like mathematics, computer science, history, and law. Most providers of state-of-the-art LMs use this dataset to showcase the versatility of their latest models. Unfortunately, Horta-Ribeiro, the intern responsible for collecting the results, didn’t take EPFL’s famous ADA course. As a result, the collected datasets are slightly corrupted.\n",
    "\n",
    "### A very brief primer on Language Models\n",
    "Language models (LMs) are sophisticated statistical models designed to understand and generate human-like text. At their core, LMs are trained to predict the most likely continuation of a given input text. For example, given the input \"The cat sat on the,\" an LM might predict \"mat\" as a likely continuation.\n",
    "LMs are trained on vast text samples from various sources, including books, websites, and social media. This extensive training allows them to capture patterns and relationships in language, enabling them to generate coherent and contextually appropriate text across a wide range of topics and styles.\n",
    "\n",
    "While LMs can produce text that appears to be written by intelligent humans, it's important to note that their capabilities can diverge from human intelligence in unexpected ways. They may sometimes generate factually incorrect information or struggle with complex reasoning tasks.\n",
    "\n",
    "Two key concepts in understanding LMs are:\n",
    "1. **Tokens**: LMs process text using \"tokens\" rather than individual characters. Tokens can be words, parts of words, or punctuation marks. For example, the sentence \"I love AI!\" might be tokenized as [\"I\", \"love\", \"AI\", \"!\"]. Tokenization is the first step in both training and using an LM.\n",
    "2. **Context**: The input text provided to an LM is called the \"context.\" This context informs the model's predictions or generations. A longer or more specific context often leads to more accurate and relevant outputs.\n",
    "\n",
    "[See: Wikipedia entry on language models](https://en.wikipedia.org/wiki/Large_language_model)\n",
    "\n",
    "###  Files for this assignment\n",
    "This assignment is divided into three tasks, each of which should bring you a step closer to providing a recommendation toward project NEUTRALITY’s objectives:\n",
    "\n",
    "- **Task 1**: Inspecting the results and getting your first model ranking\n",
    "- **Task 2**: Inspecting the underlying data used to generate the results for possible biases\n",
    "- **Task 3**: Learning about tokens and providing a final recommendation\n",
    "\n",
    "\n",
    "```\n",
    "📁 PROJECT_NEUTRALITY\n",
    "│\n",
    "├── 📄 analysis.ipynb (the file you're currently reading!)\n",
    "├── 📄 requirements.txt (install into your environment)\n",
    "│\n",
    "├── 📁 task_1\n",
    "├── 📁 task_2\n",
    "└── 📁 task_2.5\n",
    "```   \n",
    " "
   ]
  },
  {
   "cell_type": "code",
   "execution_count": 1,
   "id": "95ce4c12-9681-401e-9489-aa0765b19d5d",
   "metadata": {},
   "outputs": [],
   "source": [
    "# please make sure you install the packages listed in the requirements.txt file in your environment!\n",
    "# using pip\n",
    "# pip install -r requirements.txt\n",
    "#\n",
    "# using Conda:\n",
    "# conda create --name <env_name> --file requirements.txt\n",
    "#\n",
    "# some basic imports\n",
    "import os\n",
    "import pandas as pd\n",
    "import numpy as np\n",
    "import matplotlib.pyplot as plt\n",
    "import warnings\n",
    "from scipy.stats import ttest_ind"
   ]
  },
  {
   "attachments": {},
   "cell_type": "markdown",
   "id": "e62594ad-4f5f-4a46-80bc-deacf66b62e9",
   "metadata": {},
   "source": [
    "## Task 1 (18 points): What's in an average anyway?\n",
    "\n",
    "The files needed to complete task 1 can be found in the folder \"`data/task_1/`:\n",
    "```\n",
    "task_1/\n",
    "│\n",
    "├── mmlu_data/\n",
    "│   └── test.csv\n",
    "│\n",
    "└── df_mmlu/\n",
    "    ├── lm_X.csv\n",
    "    ├── lm_Y.csv\n",
    "    └── lm_Z.csv\n",
    "```\n",
    "\n",
    "We will start by loading, (manually) inspecting, and cleaning the data. Although it doesn't seem \"glamorous\" (nor is it particularly fun...) - manually inspecting data is extremely important! In fact, it's one of the few things most AI and Data Science researchers agree on :). Next, we will take a first pass on ordering our Olympic podium between three LMs."
   ]
  },
  {
   "attachments": {},
   "cell_type": "markdown",
   "id": "f8605646-79fa-4cb3-8137-b6951bd1e064",
   "metadata": {},
   "source": [
    "### 1.1 (1 pt)\n",
    " \n",
    "Load the subfiles contained in the `mmlu_data` and `df_mmlu` folders into separate dataframes:\n",
    "- `df_test`\n",
    "- `df_x`\n",
    "- `df_y`\n",
    "- `df_z`\n",
    "\n",
    "for each, print their sizes."
   ]
  },
  {
   "cell_type": "code",
   "execution_count": 2,
   "id": "2437042d",
   "metadata": {},
   "outputs": [],
   "source": [
    "lm_folder = './task_1/df_mmlu/'\n",
    "mmlu_folder = './task_1/mmlu_data/'"
   ]
  },
  {
   "cell_type": "code",
   "execution_count": 3,
   "id": "e6ce5e96-7de6-463d-a00b-6a4b2cfc8cb3",
   "metadata": {},
   "outputs": [],
   "source": [
    "df_test = pd.read_csv(mmlu_folder + 'test.csv')\n",
    "df_x = pd.read_csv(lm_folder + 'lm_X.csv')\n",
    "df_y = pd.read_csv(lm_folder + 'lm_Y.csv')\n",
    "df_z = pd.read_csv(lm_folder + 'lm_Z.csv')"
   ]
  },
  {
   "cell_type": "code",
   "execution_count": 4,
   "id": "838d934e",
   "metadata": {},
   "outputs": [
    {
     "data": {
      "text/html": [
       "<div>\n",
       "<style scoped>\n",
       "    .dataframe tbody tr th:only-of-type {\n",
       "        vertical-align: middle;\n",
       "    }\n",
       "\n",
       "    .dataframe tbody tr th {\n",
       "        vertical-align: top;\n",
       "    }\n",
       "\n",
       "    .dataframe thead th {\n",
       "        text-align: right;\n",
       "    }\n",
       "</style>\n",
       "<table border=\"1\" class=\"dataframe\">\n",
       "  <thead>\n",
       "    <tr style=\"text-align: right;\">\n",
       "      <th></th>\n",
       "      <th>question</th>\n",
       "      <th>A</th>\n",
       "      <th>B</th>\n",
       "      <th>C</th>\n",
       "      <th>D</th>\n",
       "      <th>answer</th>\n",
       "      <th>subject</th>\n",
       "      <th>question_id</th>\n",
       "    </tr>\n",
       "  </thead>\n",
       "  <tbody>\n",
       "    <tr>\n",
       "      <th>0</th>\n",
       "      <td>Find the degree for the given field extension ...</td>\n",
       "      <td>0</td>\n",
       "      <td>4</td>\n",
       "      <td>2</td>\n",
       "      <td>6</td>\n",
       "      <td>B</td>\n",
       "      <td>abstract algebra</td>\n",
       "      <td>0</td>\n",
       "    </tr>\n",
       "    <tr>\n",
       "      <th>1</th>\n",
       "      <td>Let p = (1, 2, 5, 4)(2, 3) in S_5 . Find the i...</td>\n",
       "      <td>8</td>\n",
       "      <td>2</td>\n",
       "      <td>24</td>\n",
       "      <td>120</td>\n",
       "      <td>C</td>\n",
       "      <td>abstract algebra</td>\n",
       "      <td>1</td>\n",
       "    </tr>\n",
       "    <tr>\n",
       "      <th>2</th>\n",
       "      <td>Find all zeros in the indicated finite field o...</td>\n",
       "      <td>0</td>\n",
       "      <td>1</td>\n",
       "      <td>0,1</td>\n",
       "      <td>0,4</td>\n",
       "      <td>D</td>\n",
       "      <td>abstract algebra</td>\n",
       "      <td>2</td>\n",
       "    </tr>\n",
       "    <tr>\n",
       "      <th>3</th>\n",
       "      <td>Statement 1 | A factor group of a non-Abelian ...</td>\n",
       "      <td>True, True</td>\n",
       "      <td>False, False</td>\n",
       "      <td>True, False</td>\n",
       "      <td>False, True</td>\n",
       "      <td>B</td>\n",
       "      <td>abstract algebra</td>\n",
       "      <td>3</td>\n",
       "    </tr>\n",
       "    <tr>\n",
       "      <th>4</th>\n",
       "      <td>Find the product of the given polynomials in t...</td>\n",
       "      <td>2x^2 + 5</td>\n",
       "      <td>6x^2 + 4x + 6</td>\n",
       "      <td>0</td>\n",
       "      <td>x^2 + 1</td>\n",
       "      <td>B</td>\n",
       "      <td>abstract algebra</td>\n",
       "      <td>4</td>\n",
       "    </tr>\n",
       "  </tbody>\n",
       "</table>\n",
       "</div>"
      ],
      "text/plain": [
       "                                            question           A  \\\n",
       "0  Find the degree for the given field extension ...           0   \n",
       "1  Let p = (1, 2, 5, 4)(2, 3) in S_5 . Find the i...           8   \n",
       "2  Find all zeros in the indicated finite field o...           0   \n",
       "3  Statement 1 | A factor group of a non-Abelian ...  True, True   \n",
       "4  Find the product of the given polynomials in t...    2x^2 + 5   \n",
       "\n",
       "               B            C            D answer           subject  \\\n",
       "0              4            2            6      B  abstract algebra   \n",
       "1              2           24          120      C  abstract algebra   \n",
       "2              1          0,1          0,4      D  abstract algebra   \n",
       "3   False, False  True, False  False, True      B  abstract algebra   \n",
       "4  6x^2 + 4x + 6            0      x^2 + 1      B  abstract algebra   \n",
       "\n",
       "   question_id  \n",
       "0            0  \n",
       "1            1  \n",
       "2            2  \n",
       "3            3  \n",
       "4            4  "
      ]
     },
     "execution_count": 4,
     "metadata": {},
     "output_type": "execute_result"
    }
   ],
   "source": [
    "df_test.head()"
   ]
  },
  {
   "cell_type": "code",
   "execution_count": 5,
   "id": "59c8094f",
   "metadata": {},
   "outputs": [
    {
     "data": {
      "text/plain": [
       "(14042, 8)"
      ]
     },
     "execution_count": 5,
     "metadata": {},
     "output_type": "execute_result"
    }
   ],
   "source": [
    "df_test.shape"
   ]
  },
  {
   "cell_type": "code",
   "execution_count": 6,
   "id": "8a594cf9",
   "metadata": {},
   "outputs": [
    {
     "data": {
      "text/html": [
       "<div>\n",
       "<style scoped>\n",
       "    .dataframe tbody tr th:only-of-type {\n",
       "        vertical-align: middle;\n",
       "    }\n",
       "\n",
       "    .dataframe tbody tr th {\n",
       "        vertical-align: top;\n",
       "    }\n",
       "\n",
       "    .dataframe thead th {\n",
       "        text-align: right;\n",
       "    }\n",
       "</style>\n",
       "<table border=\"1\" class=\"dataframe\">\n",
       "  <thead>\n",
       "    <tr style=\"text-align: right;\">\n",
       "      <th></th>\n",
       "      <th>question_id</th>\n",
       "      <th>result</th>\n",
       "    </tr>\n",
       "  </thead>\n",
       "  <tbody>\n",
       "    <tr>\n",
       "      <th>0</th>\n",
       "      <td>0</td>\n",
       "      <td>B</td>\n",
       "    </tr>\n",
       "    <tr>\n",
       "      <th>1</th>\n",
       "      <td>1</td>\n",
       "      <td>C</td>\n",
       "    </tr>\n",
       "    <tr>\n",
       "      <th>2</th>\n",
       "      <td>2</td>\n",
       "      <td>D</td>\n",
       "    </tr>\n",
       "    <tr>\n",
       "      <th>3</th>\n",
       "      <td>3</td>\n",
       "      <td>B</td>\n",
       "    </tr>\n",
       "    <tr>\n",
       "      <th>4</th>\n",
       "      <td>4</td>\n",
       "      <td>Answer: B</td>\n",
       "    </tr>\n",
       "  </tbody>\n",
       "</table>\n",
       "</div>"
      ],
      "text/plain": [
       "   question_id     result\n",
       "0            0          B\n",
       "1            1          C\n",
       "2            2         D \n",
       "3            3         B \n",
       "4            4  Answer: B"
      ]
     },
     "execution_count": 6,
     "metadata": {},
     "output_type": "execute_result"
    }
   ],
   "source": [
    "df_x.head()"
   ]
  },
  {
   "cell_type": "code",
   "execution_count": 7,
   "id": "283486dc",
   "metadata": {},
   "outputs": [
    {
     "data": {
      "text/plain": [
       "(13882, 2)"
      ]
     },
     "execution_count": 7,
     "metadata": {},
     "output_type": "execute_result"
    }
   ],
   "source": [
    "df_x.shape"
   ]
  },
  {
   "cell_type": "code",
   "execution_count": 8,
   "id": "f40388f2",
   "metadata": {},
   "outputs": [
    {
     "data": {
      "text/html": [
       "<div>\n",
       "<style scoped>\n",
       "    .dataframe tbody tr th:only-of-type {\n",
       "        vertical-align: middle;\n",
       "    }\n",
       "\n",
       "    .dataframe tbody tr th {\n",
       "        vertical-align: top;\n",
       "    }\n",
       "\n",
       "    .dataframe thead th {\n",
       "        text-align: right;\n",
       "    }\n",
       "</style>\n",
       "<table border=\"1\" class=\"dataframe\">\n",
       "  <thead>\n",
       "    <tr style=\"text-align: right;\">\n",
       "      <th></th>\n",
       "      <th>question_id</th>\n",
       "      <th>result</th>\n",
       "    </tr>\n",
       "  </thead>\n",
       "  <tbody>\n",
       "    <tr>\n",
       "      <th>0</th>\n",
       "      <td>0</td>\n",
       "      <td>Answer: D</td>\n",
       "    </tr>\n",
       "    <tr>\n",
       "      <th>1</th>\n",
       "      <td>1</td>\n",
       "      <td>D</td>\n",
       "    </tr>\n",
       "    <tr>\n",
       "      <th>2</th>\n",
       "      <td>2</td>\n",
       "      <td>Answer: D</td>\n",
       "    </tr>\n",
       "    <tr>\n",
       "      <th>3</th>\n",
       "      <td>3</td>\n",
       "      <td>NaN</td>\n",
       "    </tr>\n",
       "    <tr>\n",
       "      <th>4</th>\n",
       "      <td>4</td>\n",
       "      <td>D</td>\n",
       "    </tr>\n",
       "  </tbody>\n",
       "</table>\n",
       "</div>"
      ],
      "text/plain": [
       "   question_id     result\n",
       "0            0  Answer: D\n",
       "1            1          D\n",
       "2            2  Answer: D\n",
       "3            3        NaN\n",
       "4            4          D"
      ]
     },
     "execution_count": 8,
     "metadata": {},
     "output_type": "execute_result"
    }
   ],
   "source": [
    "df_y.head()"
   ]
  },
  {
   "cell_type": "code",
   "execution_count": 9,
   "id": "97c65367",
   "metadata": {},
   "outputs": [
    {
     "data": {
      "text/plain": [
       "(13978, 2)"
      ]
     },
     "execution_count": 9,
     "metadata": {},
     "output_type": "execute_result"
    }
   ],
   "source": [
    "df_y.shape"
   ]
  },
  {
   "cell_type": "code",
   "execution_count": 10,
   "id": "8d606c38",
   "metadata": {},
   "outputs": [
    {
     "data": {
      "text/html": [
       "<div>\n",
       "<style scoped>\n",
       "    .dataframe tbody tr th:only-of-type {\n",
       "        vertical-align: middle;\n",
       "    }\n",
       "\n",
       "    .dataframe tbody tr th {\n",
       "        vertical-align: top;\n",
       "    }\n",
       "\n",
       "    .dataframe thead th {\n",
       "        text-align: right;\n",
       "    }\n",
       "</style>\n",
       "<table border=\"1\" class=\"dataframe\">\n",
       "  <thead>\n",
       "    <tr style=\"text-align: right;\">\n",
       "      <th></th>\n",
       "      <th>question_id</th>\n",
       "      <th>result</th>\n",
       "    </tr>\n",
       "  </thead>\n",
       "  <tbody>\n",
       "    <tr>\n",
       "      <th>0</th>\n",
       "      <td>0</td>\n",
       "      <td>B</td>\n",
       "    </tr>\n",
       "    <tr>\n",
       "      <th>1</th>\n",
       "      <td>1</td>\n",
       "      <td>Answer: B</td>\n",
       "    </tr>\n",
       "    <tr>\n",
       "      <th>2</th>\n",
       "      <td>2</td>\n",
       "      <td>C</td>\n",
       "    </tr>\n",
       "    <tr>\n",
       "      <th>3</th>\n",
       "      <td>3</td>\n",
       "      <td>B</td>\n",
       "    </tr>\n",
       "    <tr>\n",
       "      <th>4</th>\n",
       "      <td>4</td>\n",
       "      <td>B</td>\n",
       "    </tr>\n",
       "  </tbody>\n",
       "</table>\n",
       "</div>"
      ],
      "text/plain": [
       "   question_id     result\n",
       "0            0          B\n",
       "1            1  Answer: B\n",
       "2            2          C\n",
       "3            3         B \n",
       "4            4          B"
      ]
     },
     "execution_count": 10,
     "metadata": {},
     "output_type": "execute_result"
    }
   ],
   "source": [
    "df_z.head()"
   ]
  },
  {
   "cell_type": "code",
   "execution_count": 11,
   "id": "e1ce11c7",
   "metadata": {},
   "outputs": [
    {
     "data": {
      "text/plain": [
       "(13923, 2)"
      ]
     },
     "execution_count": 11,
     "metadata": {},
     "output_type": "execute_result"
    }
   ],
   "source": [
    "df_z.shape"
   ]
  },
  {
   "cell_type": "markdown",
   "id": "acbda57d-7df2-4e33-b31c-52bc0af6753e",
   "metadata": {},
   "source": [
    "### 1.2 (4 pt)\n",
    "Unfortunately, LMs don't always output the format we want. In the column `result`, the value should be one of A, B, C, or D. \n",
    "\n",
    "A. For each of the LM score dataframes, use a `value_counts()` operation and print the results. \n",
    "\n",
    "B. /Discuss:/ Inspect the results and describe the types of answer formats you see. Besides the \"expected\" case, you should be able to find at least four unexpected formats."
   ]
  },
  {
   "cell_type": "code",
   "execution_count": 12,
   "id": "02fe422f",
   "metadata": {},
   "outputs": [
    {
     "data": {
      "text/plain": [
       "result\n",
       "A                                                                                                                 2733\n",
       "A                                                                                                                 1657\n",
       "B                                                                                                                 1412\n",
       "Answer: A                                                                                                         1398\n",
       "C                                                                                                                 1134\n",
       "                                                                                                                  ... \n",
       "judicial activism, so the answer is A                                                                                1\n",
       "creating insurmountable obstacles to the founding of factions, so the answer is A                                    1\n",
       "A congressperson who retires to take a position teaching political science at a university, so the answer is A       1\n",
       "David Hume, so the answer is D                                                                                       1\n",
       "Brahminic orthodoxy, so the answer is A                                                                              1\n",
       "Name: count, Length: 145, dtype: int64"
      ]
     },
     "execution_count": 12,
     "metadata": {},
     "output_type": "execute_result"
    }
   ],
   "source": [
    "# A\n",
    "df_x[\"result\"].value_counts()"
   ]
  },
  {
   "cell_type": "code",
   "execution_count": 13,
   "id": "c245b226",
   "metadata": {},
   "outputs": [
    {
     "data": {
      "text/plain": [
       "result\n",
       "D                                                                                                2894\n",
       "Answer: D                                                                                        1718\n",
       "C                                                                                                1701\n",
       "B                                                                                                1240\n",
       "D                                                                                                1145\n",
       "                                                                                                 ... \n",
       "Where the energy of interaction between the atoms is at its minimum value, so the answer is A       1\n",
       "leaves more viable offspring than others of its species., so the answer is D                        1\n",
       "A and C only, so the answer is D                                                                    1\n",
       "ADP + P → ATP, so the answer is D                                                                   1\n",
       "Monoclonal antibodies, so the answer is C                                                           1\n",
       "Name: count, Length: 141, dtype: int64"
      ]
     },
     "execution_count": 13,
     "metadata": {},
     "output_type": "execute_result"
    }
   ],
   "source": [
    "df_y[\"result\"].value_counts()"
   ]
  },
  {
   "cell_type": "code",
   "execution_count": 14,
   "id": "f2f53b0e",
   "metadata": {},
   "outputs": [
    {
     "data": {
      "text/plain": [
       "result\n",
       "D                                                                                   2257\n",
       "C                                                                                   2191\n",
       "B                                                                                   2127\n",
       "A                                                                                   2060\n",
       "Answer: D                                                                            777\n",
       "                                                                                    ... \n",
       "omission of a universal suffrage clause, so the answer is D                            1\n",
       "declare war, so the answer is D                                                        1\n",
       "state and local governments, by means of federal funding, so the answer is B           1\n",
       "less clearly identified with consistent political ideologies, so the answer is B       1\n",
       "Rahit, so the answer is B                                                              1\n",
       "Name: count, Length: 560, dtype: int64"
      ]
     },
     "execution_count": 14,
     "metadata": {},
     "output_type": "execute_result"
    }
   ],
   "source": [
    "df_z[\"result\"].value_counts()"
   ]
  },
  {
   "attachments": {},
   "cell_type": "markdown",
   "id": "dcabd7bd",
   "metadata": {},
   "source": [
    "There are many different answers: written answers, additional space, nan, \"none of the above\"."
   ]
  },
  {
   "cell_type": "code",
   "execution_count": 15,
   "id": "620f46cc",
   "metadata": {},
   "outputs": [],
   "source": [
    "result_x = {}\n",
    "for r in df_x[\"result\"]:\n",
    "    if r not in result_x:\n",
    "        result_x[r] = 1\n",
    "    else:\n",
    "        result_x[r] += 1"
   ]
  },
  {
   "cell_type": "code",
   "execution_count": 16,
   "id": "2e1a2d4e",
   "metadata": {},
   "outputs": [
    {
     "data": {
      "text/plain": [
       "{'B': 1412,\n",
       " 'C': 1134,\n",
       " 'D ': 596,\n",
       " 'B ': 793,\n",
       " 'Answer: B': 760,\n",
       " 'A': 2733,\n",
       " 'Answer: D': 613,\n",
       " 'Answer: C': 594,\n",
       " 'Answer: A': 1398,\n",
       " 'Not Sure': 73,\n",
       " 'A ': 1657,\n",
       " 'C ': 622,\n",
       " nan: 170,\n",
       " 'D': 1124,\n",
       " 'None of the above': 69,\n",
       " '3, so the answer is B': 1,\n",
       " 'is prevented from everting by papillary muscles., so the answer is B': 1,\n",
       " 'lingual branch of the mandibular trigeminal nerve., so the answer is A': 1,\n",
       " 'These craters contain the only permanently shadowed regions on Mercury, so the answer is D': 1,\n",
       " 'Unsafe practices, Wants, Fear, Trivial, so the answer is A': 1,\n",
       " 'phosphofructokinase., so the answer is D': 1,\n",
       " 'They provide access to phosphorus, an essential element that is limited in many kinds of soils., so the answer is C': 1,\n",
       " 'Lead to death due to an inability of the cell to pass electrons to oxygen, thus stopping aerobic respiration and asphyxiating the cells., so the answer is A': 1,\n",
       " 'creatine phosphorylation., so the answer is B': 1,\n",
       " 'Mass of the moon, so the answer is A': 1,\n",
       " '5, so the answer is A': 1,\n",
       " 'True, True, so the answer is A': 1,\n",
       " 'By overwriting the return address to point to the location of that code, so the answer is A': 1,\n",
       " 'passes into the air above, so the answer is B': 1,\n",
       " 'torques, so the answer is B': 1,\n",
       " 'one-quarter the value for a tube open at both ends, so the answer is A': 1,\n",
       " 'ejected neutrons, so the answer is D': 1,\n",
       " 'internal reflection, so the answer is A': 1,\n",
       " 'No, so the answer is B': 1,\n",
       " 'crystal filter., so the answer is B': 1,\n",
       " 'Inductance., so the answer is B': 1,\n",
       " 'Both 2 and 3., so the answer is D': 1,\n",
       " 'in parallel., so the answer is B': 1,\n",
       " 'C =8π, so the answer is B': 1,\n",
       " 'Invalid. Counterexample when L is true and K is false, so the answer is D': 1,\n",
       " '(∀x)(Rx ⊃ Ax), so the answer is C': 1,\n",
       " '80%, so the answer is C': 1,\n",
       " 'The appendix has a substantial amount of defensive lymphatic tissue., so the answer is C': 1,\n",
       " 'proximal convoluted tubule, so the answer is B': 1,\n",
       " 'Chemiosmosis, so the answer is B': 1,\n",
       " 'temporary dipoles created by the position of electrons around the nuclei in a molecule, so the answer is A': 1,\n",
       " 'Second order, so the answer is C': 1,\n",
       " '1 and 2 because they both reduce copper ions, so the answer is C': 1,\n",
       " 'David Hume, so the answer is D': 1,\n",
       " 'A congressperson who retires to take a position teaching political science at a university, so the answer is A': 1,\n",
       " 'creating insurmountable obstacles to the founding of factions, so the answer is A': 1,\n",
       " 'judicial activism, so the answer is A': 1,\n",
       " 'voters select the winner by caucus instead of by individual ballots, so the answer is A': 1,\n",
       " 'Fifty-one percent, so the answer is B': 1,\n",
       " '13, so the answer is C': 1,\n",
       " '(–3, 2), so the answer is C': 1,\n",
       " 'sweet, so the answer is B': 1,\n",
       " 'remembering how to tie a tie, so the answer is B': 1,\n",
       " 'anger, so the answer is A': 1,\n",
       " 'the conditioned stimulus without the unconditioned stimulus, so the answer is B': 1,\n",
       " '70 minutes to 264 minutes, so the answer is C': 1,\n",
       " '6.68%, so the answer is D': 1,\n",
       " 'Conservation, trust-busting, consumer protection, so the answer is A': 1,\n",
       " 'it was the first time the presidency shifted from one political party to another., so the answer is B': 1,\n",
       " 'Unregulated currency and federal debts after the War of 1812, so the answer is B': 1,\n",
       " 'H. Ross Perot, Reform Party, 1996, so the answer is D': 1,\n",
       " 'Overhunting and depletion of furbearing animals, so the answer is D': 1,\n",
       " 'The world engages in subtler forms of discrimination., so the answer is B': 1,\n",
       " 'All adult men born within the geographic boundaries of the state, so the answer is A': 1,\n",
       " 'Large-scale military losses and resentment of the working classes, so the answer is C': 1,\n",
       " 'One can make funeral and estate plans with the loved one, so the answer is B': 1,\n",
       " 'Changes a lot past age 50, so the answer is A': 1,\n",
       " 'experienced guilt, so the answer is C': 1,\n",
       " 'No, according to the literal interpretation of the relevant provision of the State, the provisional measures are not binding, so the answer is A': 1,\n",
       " 'False, False, so the answer is B': 1,\n",
       " 'Linear hard-margin SVM., so the answer is A': 1,\n",
       " 'Whether we assume full class covariance matrices or diagonal class covariance matrices, so the answer is B': 1,\n",
       " 'True, False, so the answer is C': 1,\n",
       " 'Adam Smith, so the answer is C': 1,\n",
       " 'quantity demanded barely changes with a change in price, so the answer is B': 1,\n",
       " 'Autosomal recessive, so the answer is B': 1,\n",
       " '6*10^14 J, so the answer is C': 1,\n",
       " 'white, so the answer is C': 1,\n",
       " 'six years, so the answer is C': 1,\n",
       " 'Paris, so the answer is A': 1,\n",
       " 'up to 250, so the answer is A': 1,\n",
       " 'Chordates, so the answer is B': 1,\n",
       " 'Losing the curl, so the answer is C': 1,\n",
       " 'Bill Viola, so the answer is A': 1,\n",
       " 'Conceptual artists, so the answer is D': 1,\n",
       " 'the type of drug used, so the answer is A': 1,\n",
       " 'Not wrong, Wrong, so the answer is C': 1,\n",
       " 'Wrong, Wrong, so the answer is A': 4,\n",
       " 'Not wrong, Not wrong, so the answer is D': 1,\n",
       " 'Vitamin D, so the answer is B': 1,\n",
       " 'Folate, vitamins B6 and B12, so the answer is D': 1,\n",
       " 'purely physical and natural, so the answer is B': 1,\n",
       " 'logical nominalism, so the answer is A': 1,\n",
       " 'enlightened egoism., so the answer is A': 1,\n",
       " 'food surpluses, specialists, urban settlements, and a system of record keeping, so the answer is A': 1,\n",
       " 'philosophy and religion., so the answer is B': 1,\n",
       " 'Acheulean, so the answer is B': 1,\n",
       " 'Neandertals used caves in Europe where their remains were preserved., so the answer is B': 1,\n",
       " 'tribute in the form of gold, jade, feathers, cloth, and jewels., so the answer is A': 1,\n",
       " 'No, because Long did not have authority to enter into the contract., so the answer is D': 1,\n",
       " '$100,000, so the answer is A': 1,\n",
       " '10%, so the answer is A': 1,\n",
       " '$480,000, so the answer is B': 1,\n",
       " \"not recover, because the dairy's negligence only caused mental disturbance., so the answer is C\": 1,\n",
       " 'constitutional, because the election code is nonviolative of the equal protection clause., so the answer is D': 1,\n",
       " 'Because window tinting is permitted on vehicles in neighboring states, this law denies the company the equal protection of laws., so the answer is A': 1,\n",
       " 'No, she is not a member of a suspect class as there cannot be a \"class-of-one\" in the employment law context., so the answer is A': 1,\n",
       " 'Yes, because the aluminum sheets were nonconforming goods., so the answer is A': 1,\n",
       " 'the contract price of$10,000., so the answer is C': 1,\n",
       " 'recover, if a reasonable consumer would not expect the presence of such a pebble in the chowder., so the answer is A': 1,\n",
       " \"The zoning ordinance provision would be upheld as constitutional under the state's police power., so the answer is D\": 1,\n",
       " 'Although the contract violates the law and is void, the court will require the homeowner to pay the contractor the reasonable value of the work accepted., so the answer is A': 1,\n",
       " 'it is necessary to further a compelling state interest., so the answer is B': 1,\n",
       " 'No, because the retailer is a citizen of State B., so the answer is B': 1,\n",
       " 'first-degree murder., so the answer is A': 1,\n",
       " 'The defendant is compelled to stand trial in street clothing., so the answer is B': 1,\n",
       " 'They committed a larceny by placing the three dresses in the shopping bag., so the answer is A': 1,\n",
       " 'the right to remove oil is an incident of a defeasible fee simple., so the answer is A': 1,\n",
       " 'sustain the objection, because the radar results are not conclusive evidence of speeding., so the answer is A': 1,\n",
       " 'Cytokine secretion by natural killer cells, so the answer is A': 1,\n",
       " 'Apocrine gland, so the answer is A': 1,\n",
       " 'needs analysis., so the answer is A': 1,\n",
       " 'goals serve 2 purposes: they are a basis for motivation and they direct behaviors, so the answer is A': 1,\n",
       " 'effect of an IV at diff levels of the other IVs, so the answer is A': 1,\n",
       " 'Cognitive behavioral therapy, so the answer is A': 1,\n",
       " 'high ability and low motivation., so the answer is C': 1,\n",
       " 'brain damage, intellectual disability, or emotional disturbance, so the answer is D': 1,\n",
       " 'the student should be listed as the first author., so the answer is A': 1,\n",
       " 'we tend to remember unfinished tasks better than finished ones., so the answer is A': 1,\n",
       " 'only if the employee was referred to the program by the supervisor., so the answer is B': 1,\n",
       " 'a simultaneous event produced the fluctuation, so the answer is A': 1,\n",
       " 'Random assignment, random selection, so the answer is B': 1,\n",
       " 'to interpret trends for management, so the answer is B': 1,\n",
       " 'Strategic studies are the central concern of international relations, within strategic studies, the subset of security studies focuses on military security., so the answer is A': 1,\n",
       " 'Complete eradication of threats., so the answer is A': 1,\n",
       " 'Category B agents include food and water security threats, with moderate morbidity rates., so the answer is C': 1,\n",
       " 'It is when considering the military and the security institutions that some of the greatest contradictions with the concept of environmental security are raised. War impacts negatively on the sustainable growth of the nation but armed forces may be required to manage the effects., so the answer is B': 1,\n",
       " 'household account book, so the answer is C': 1,\n",
       " 'China, so the answer is D': 1,\n",
       " 'It criticized international organizations, rather than trying to strengthen them, so the answer is A': 1,\n",
       " 'Brahminic orthodoxy, so the answer is A': 1}"
      ]
     },
     "execution_count": 16,
     "metadata": {},
     "output_type": "execute_result"
    }
   ],
   "source": [
    "result_x"
   ]
  },
  {
   "cell_type": "markdown",
   "id": "88c5551d-1968-427b-bdd6-51d996898e7c",
   "metadata": {},
   "source": [
    "### 1.3 (5 pt)\n",
    "Oh oh... That doesn't look great. Simply dropping all invalid answers seems overly wasteful, yet fixing all of these looks like a mess! Instead, let's focus for now on fixing just those answers of length < 10 characters that require only a single `str.replace()` operation. \n",
    "\n",
    "For example, if the answer looks like `--A--`, we could fix this by using the following simple function:\n",
    "\n",
    "```\n",
    "def clean_answer(s, pattern='-'):\n",
    "    return str(s).replace(pattern, '')\n",
    "\n",
    "dirty_answer = '--A--'\n",
    "clean_answer = clean_answer(dirty_answer)\n",
    "```\n",
    "\n",
    "A. Filter the three score dataframes to include only answers with less than 10 characters. Make a deep copy of the dataframes as you filter them.\n",
    "\n",
    "B. Modify the `clean_answer()` example function to clean the answers in the filtered data frames using the `apply()` functionality. Finally, make sure **all remaining answers are one of `A, B, C, or D`.**\n",
    "\n",
    "C. /Discuss:/ Compare the sizes of the original and filtered data frames. What do you see? Why might this be a problem?"
   ]
  },
  {
   "cell_type": "code",
   "execution_count": 17,
   "id": "9e55d9ec",
   "metadata": {},
   "outputs": [],
   "source": [
    "def clean_answer(s, pattern):\n",
    "\n",
    "    return str(s).replace(pattern, '')"
   ]
  },
  {
   "cell_type": "code",
   "execution_count": 25,
   "id": "7fc17898",
   "metadata": {},
   "outputs": [],
   "source": [
    "all_df = [df_x, df_y, df_z]\n",
    "all_df_filtered = []\n",
    "\n",
    "for df in all_df:\n",
    "\n",
    "    df[\"len\"] = df[\"result\"].apply(lambda x: len(str(x)))\n",
    "    df_filtered = df.loc[df[\"len\"] <= 10].copy(deep=True)\n",
    "\n",
    "    df = df.drop('len', axis=1)\n",
    "    df_filtered = df_filtered.drop('len', axis=1)\n",
    "\n",
    "    df_filtered[\"result\"] = df_filtered[\"result\"].apply(lambda x: clean_answer(clean_answer(x, pattern=' '), pattern=\"Answer:\"))\n",
    "    df_filtered = df_filtered.loc[(df_filtered[\"result\"] != \"NotSure\") & (df_filtered[\"result\"] != \"nan\")]\n",
    "\n",
    "    all_df_filtered.append(df_filtered)"
   ]
  },
  {
   "cell_type": "code",
   "execution_count": 26,
   "id": "795c9fd6",
   "metadata": {},
   "outputs": [
    {
     "data": {
      "text/html": [
       "<div>\n",
       "<style scoped>\n",
       "    .dataframe tbody tr th:only-of-type {\n",
       "        vertical-align: middle;\n",
       "    }\n",
       "\n",
       "    .dataframe tbody tr th {\n",
       "        vertical-align: top;\n",
       "    }\n",
       "\n",
       "    .dataframe thead th {\n",
       "        text-align: right;\n",
       "    }\n",
       "</style>\n",
       "<table border=\"1\" class=\"dataframe\">\n",
       "  <thead>\n",
       "    <tr style=\"text-align: right;\">\n",
       "      <th></th>\n",
       "      <th>question_id</th>\n",
       "      <th>result</th>\n",
       "    </tr>\n",
       "  </thead>\n",
       "  <tbody>\n",
       "    <tr>\n",
       "      <th>0</th>\n",
       "      <td>0</td>\n",
       "      <td>B</td>\n",
       "    </tr>\n",
       "    <tr>\n",
       "      <th>1</th>\n",
       "      <td>1</td>\n",
       "      <td>C</td>\n",
       "    </tr>\n",
       "    <tr>\n",
       "      <th>2</th>\n",
       "      <td>2</td>\n",
       "      <td>D</td>\n",
       "    </tr>\n",
       "    <tr>\n",
       "      <th>3</th>\n",
       "      <td>3</td>\n",
       "      <td>B</td>\n",
       "    </tr>\n",
       "    <tr>\n",
       "      <th>4</th>\n",
       "      <td>4</td>\n",
       "      <td>B</td>\n",
       "    </tr>\n",
       "    <tr>\n",
       "      <th>...</th>\n",
       "      <td>...</td>\n",
       "      <td>...</td>\n",
       "    </tr>\n",
       "    <tr>\n",
       "      <th>13877</th>\n",
       "      <td>14037</td>\n",
       "      <td>A</td>\n",
       "    </tr>\n",
       "    <tr>\n",
       "      <th>13878</th>\n",
       "      <td>14038</td>\n",
       "      <td>A</td>\n",
       "    </tr>\n",
       "    <tr>\n",
       "      <th>13879</th>\n",
       "      <td>14039</td>\n",
       "      <td>B</td>\n",
       "    </tr>\n",
       "    <tr>\n",
       "      <th>13880</th>\n",
       "      <td>14040</td>\n",
       "      <td>B</td>\n",
       "    </tr>\n",
       "    <tr>\n",
       "      <th>13881</th>\n",
       "      <td>14041</td>\n",
       "      <td>A</td>\n",
       "    </tr>\n",
       "  </tbody>\n",
       "</table>\n",
       "<p>13436 rows × 2 columns</p>\n",
       "</div>"
      ],
      "text/plain": [
       "       question_id result\n",
       "0                0      B\n",
       "1                1      C\n",
       "2                2      D\n",
       "3                3      B\n",
       "4                4      B\n",
       "...            ...    ...\n",
       "13877        14037      A\n",
       "13878        14038      A\n",
       "13879        14039      B\n",
       "13880        14040      B\n",
       "13881        14041      A\n",
       "\n",
       "[13436 rows x 2 columns]"
      ]
     },
     "execution_count": 26,
     "metadata": {},
     "output_type": "execute_result"
    }
   ],
   "source": [
    "all_df_filtered[0]"
   ]
  },
  {
   "cell_type": "code",
   "execution_count": 20,
   "id": "7be20c21",
   "metadata": {},
   "outputs": [
    {
     "data": {
      "text/plain": [
       "result\n",
       "A    5788\n",
       "B    2965\n",
       "C    2350\n",
       "D    2333\n",
       "Name: count, dtype: int64"
      ]
     },
     "execution_count": 20,
     "metadata": {},
     "output_type": "execute_result"
    }
   ],
   "source": [
    "all_df_filtered[0][\"result\"].value_counts()"
   ]
  },
  {
   "cell_type": "markdown",
   "id": "2415cd9b",
   "metadata": {},
   "source": [
    "C. /Discuss:/"
   ]
  },
  {
   "cell_type": "code",
   "execution_count": 29,
   "id": "90fe2712",
   "metadata": {},
   "outputs": [
    {
     "data": {
      "text/html": [
       "<div>\n",
       "<style scoped>\n",
       "    .dataframe tbody tr th:only-of-type {\n",
       "        vertical-align: middle;\n",
       "    }\n",
       "\n",
       "    .dataframe tbody tr th {\n",
       "        vertical-align: top;\n",
       "    }\n",
       "\n",
       "    .dataframe thead th {\n",
       "        text-align: right;\n",
       "    }\n",
       "</style>\n",
       "<table border=\"1\" class=\"dataframe\">\n",
       "  <thead>\n",
       "    <tr style=\"text-align: right;\">\n",
       "      <th></th>\n",
       "      <th>question</th>\n",
       "      <th>A</th>\n",
       "      <th>B</th>\n",
       "      <th>C</th>\n",
       "      <th>D</th>\n",
       "      <th>answer</th>\n",
       "      <th>subject</th>\n",
       "      <th>question_id</th>\n",
       "    </tr>\n",
       "  </thead>\n",
       "  <tbody>\n",
       "    <tr>\n",
       "      <th>0</th>\n",
       "      <td>Find the degree for the given field extension ...</td>\n",
       "      <td>0</td>\n",
       "      <td>4</td>\n",
       "      <td>2</td>\n",
       "      <td>6</td>\n",
       "      <td>B</td>\n",
       "      <td>abstract algebra</td>\n",
       "      <td>0</td>\n",
       "    </tr>\n",
       "    <tr>\n",
       "      <th>1</th>\n",
       "      <td>Let p = (1, 2, 5, 4)(2, 3) in S_5 . Find the i...</td>\n",
       "      <td>8</td>\n",
       "      <td>2</td>\n",
       "      <td>24</td>\n",
       "      <td>120</td>\n",
       "      <td>C</td>\n",
       "      <td>abstract algebra</td>\n",
       "      <td>1</td>\n",
       "    </tr>\n",
       "    <tr>\n",
       "      <th>2</th>\n",
       "      <td>Find all zeros in the indicated finite field o...</td>\n",
       "      <td>0</td>\n",
       "      <td>1</td>\n",
       "      <td>0,1</td>\n",
       "      <td>0,4</td>\n",
       "      <td>D</td>\n",
       "      <td>abstract algebra</td>\n",
       "      <td>2</td>\n",
       "    </tr>\n",
       "    <tr>\n",
       "      <th>3</th>\n",
       "      <td>Statement 1 | A factor group of a non-Abelian ...</td>\n",
       "      <td>True, True</td>\n",
       "      <td>False, False</td>\n",
       "      <td>True, False</td>\n",
       "      <td>False, True</td>\n",
       "      <td>B</td>\n",
       "      <td>abstract algebra</td>\n",
       "      <td>3</td>\n",
       "    </tr>\n",
       "    <tr>\n",
       "      <th>4</th>\n",
       "      <td>Find the product of the given polynomials in t...</td>\n",
       "      <td>2x^2 + 5</td>\n",
       "      <td>6x^2 + 4x + 6</td>\n",
       "      <td>0</td>\n",
       "      <td>x^2 + 1</td>\n",
       "      <td>B</td>\n",
       "      <td>abstract algebra</td>\n",
       "      <td>4</td>\n",
       "    </tr>\n",
       "  </tbody>\n",
       "</table>\n",
       "</div>"
      ],
      "text/plain": [
       "                                            question           A  \\\n",
       "0  Find the degree for the given field extension ...           0   \n",
       "1  Let p = (1, 2, 5, 4)(2, 3) in S_5 . Find the i...           8   \n",
       "2  Find all zeros in the indicated finite field o...           0   \n",
       "3  Statement 1 | A factor group of a non-Abelian ...  True, True   \n",
       "4  Find the product of the given polynomials in t...    2x^2 + 5   \n",
       "\n",
       "               B            C            D answer           subject  \\\n",
       "0              4            2            6      B  abstract algebra   \n",
       "1              2           24          120      C  abstract algebra   \n",
       "2              1          0,1          0,4      D  abstract algebra   \n",
       "3   False, False  True, False  False, True      B  abstract algebra   \n",
       "4  6x^2 + 4x + 6            0      x^2 + 1      B  abstract algebra   \n",
       "\n",
       "   question_id  \n",
       "0            0  \n",
       "1            1  \n",
       "2            2  \n",
       "3            3  \n",
       "4            4  "
      ]
     },
     "execution_count": 29,
     "metadata": {},
     "output_type": "execute_result"
    }
   ],
   "source": [
    "df_test.head()"
   ]
  },
  {
   "cell_type": "markdown",
   "id": "da1cf129-09dd-47b1-9737-2c4d57eb8853",
   "metadata": {},
   "source": [
    "### 1.4 (3 pt)\n",
    "\n",
    "Now that our answer columns are nicely formatted, let's take a look at model performance:\n",
    "\n",
    "A. Both the `MMLU` dataframes and the language model score data frames have the columns `question_id`. For each of the language model score data frames, use an inner join operation with the `df_test` dataframe on the `question_id` column.\n",
    "\n",
    "B. Add a new column to each of the resulting dataframes called `correct`, that checks if the model's answer in `result` is the same as the expected answer in the column `answer`. Then, print the average score of each model."
   ]
  },
  {
   "cell_type": "code",
   "execution_count": 124,
   "id": "6f9629a7",
   "metadata": {},
   "outputs": [],
   "source": [
    "models = ['X', 'Y', 'Z']"
   ]
  },
  {
   "cell_type": "code",
   "execution_count": 123,
   "id": "58281b46",
   "metadata": {},
   "outputs": [
    {
     "ename": "KeyError",
     "evalue": "'answer'",
     "output_type": "error",
     "traceback": [
      "\u001b[0;31m---------------------------------------------------------------------------\u001b[0m",
      "\u001b[0;31mKeyError\u001b[0m                                  Traceback (most recent call last)",
      "File \u001b[0;32m/anaconda3/envs/MA1/lib/python3.12/site-packages/pandas/core/indexes/base.py:3791\u001b[0m, in \u001b[0;36mIndex.get_loc\u001b[0;34m(self, key)\u001b[0m\n\u001b[1;32m   3790\u001b[0m \u001b[39mtry\u001b[39;00m:\n\u001b[0;32m-> 3791\u001b[0m     \u001b[39mreturn\u001b[39;00m \u001b[39mself\u001b[39;49m\u001b[39m.\u001b[39;49m_engine\u001b[39m.\u001b[39;49mget_loc(casted_key)\n\u001b[1;32m   3792\u001b[0m \u001b[39mexcept\u001b[39;00m \u001b[39mKeyError\u001b[39;00m \u001b[39mas\u001b[39;00m err:\n",
      "File \u001b[0;32mindex.pyx:152\u001b[0m, in \u001b[0;36mpandas._libs.index.IndexEngine.get_loc\u001b[0;34m()\u001b[0m\n",
      "File \u001b[0;32mindex.pyx:181\u001b[0m, in \u001b[0;36mpandas._libs.index.IndexEngine.get_loc\u001b[0;34m()\u001b[0m\n",
      "File \u001b[0;32mpandas/_libs/hashtable_class_helper.pxi:7080\u001b[0m, in \u001b[0;36mpandas._libs.hashtable.PyObjectHashTable.get_item\u001b[0;34m()\u001b[0m\n",
      "File \u001b[0;32mpandas/_libs/hashtable_class_helper.pxi:7088\u001b[0m, in \u001b[0;36mpandas._libs.hashtable.PyObjectHashTable.get_item\u001b[0;34m()\u001b[0m\n",
      "\u001b[0;31mKeyError\u001b[0m: 'answer'",
      "\nThe above exception was the direct cause of the following exception:\n",
      "\u001b[0;31mKeyError\u001b[0m                                  Traceback (most recent call last)",
      "Cell \u001b[0;32mIn[123], line 5\u001b[0m\n\u001b[1;32m      3\u001b[0m \u001b[39mfor\u001b[39;00m i, df \u001b[39min\u001b[39;00m \u001b[39menumerate\u001b[39m(all_df_filtered):\n\u001b[1;32m      4\u001b[0m     df \u001b[39m=\u001b[39m pd\u001b[39m.\u001b[39mmerge(df, df_test, how\u001b[39m=\u001b[39m\u001b[39m\"\u001b[39m\u001b[39minner\u001b[39m\u001b[39m\"\u001b[39m, on\u001b[39m=\u001b[39m\u001b[39m\"\u001b[39m\u001b[39mquestion_id\u001b[39m\u001b[39m\"\u001b[39m)\n\u001b[0;32m----> 5\u001b[0m     df[\u001b[39m\"\u001b[39m\u001b[39mcorrect\u001b[39m\u001b[39m\"\u001b[39m] \u001b[39m=\u001b[39m np\u001b[39m.\u001b[39mwhere(df[\u001b[39m'\u001b[39m\u001b[39mresult\u001b[39m\u001b[39m'\u001b[39m] \u001b[39m==\u001b[39m df[\u001b[39m'\u001b[39;49m\u001b[39manswer\u001b[39;49m\u001b[39m'\u001b[39;49m], \u001b[39m1\u001b[39m, \u001b[39m0\u001b[39m)\n\u001b[1;32m      6\u001b[0m     avg_score \u001b[39m=\u001b[39m df[\u001b[39m\"\u001b[39m\u001b[39mcorrect\u001b[39m\u001b[39m\"\u001b[39m]\u001b[39m.\u001b[39mvalue_counts()[\u001b[39m1\u001b[39m]\u001b[39m/\u001b[39mdf\u001b[39m.\u001b[39mshape[\u001b[39m0\u001b[39m] \u001b[39m*\u001b[39m \u001b[39m100\u001b[39m\n\u001b[1;32m      7\u001b[0m     \u001b[39mprint\u001b[39m(\u001b[39mf\u001b[39m\u001b[39m'\u001b[39m\u001b[39mAverage score of model \u001b[39m\u001b[39m{\u001b[39;00mmodels[i]\u001b[39m}\u001b[39;00m\u001b[39m: \u001b[39m\u001b[39m{\u001b[39;00m\u001b[39mround\u001b[39m(avg_score,\u001b[39m \u001b[39m\u001b[39m2\u001b[39m)\u001b[39m}\u001b[39;00m\u001b[39m %\u001b[39m\u001b[39m'\u001b[39m)\n",
      "File \u001b[0;32m/anaconda3/envs/MA1/lib/python3.12/site-packages/pandas/core/frame.py:3893\u001b[0m, in \u001b[0;36mDataFrame.__getitem__\u001b[0;34m(self, key)\u001b[0m\n\u001b[1;32m   3891\u001b[0m \u001b[39mif\u001b[39;00m \u001b[39mself\u001b[39m\u001b[39m.\u001b[39mcolumns\u001b[39m.\u001b[39mnlevels \u001b[39m>\u001b[39m \u001b[39m1\u001b[39m:\n\u001b[1;32m   3892\u001b[0m     \u001b[39mreturn\u001b[39;00m \u001b[39mself\u001b[39m\u001b[39m.\u001b[39m_getitem_multilevel(key)\n\u001b[0;32m-> 3893\u001b[0m indexer \u001b[39m=\u001b[39m \u001b[39mself\u001b[39;49m\u001b[39m.\u001b[39;49mcolumns\u001b[39m.\u001b[39;49mget_loc(key)\n\u001b[1;32m   3894\u001b[0m \u001b[39mif\u001b[39;00m is_integer(indexer):\n\u001b[1;32m   3895\u001b[0m     indexer \u001b[39m=\u001b[39m [indexer]\n",
      "File \u001b[0;32m/anaconda3/envs/MA1/lib/python3.12/site-packages/pandas/core/indexes/base.py:3798\u001b[0m, in \u001b[0;36mIndex.get_loc\u001b[0;34m(self, key)\u001b[0m\n\u001b[1;32m   3793\u001b[0m     \u001b[39mif\u001b[39;00m \u001b[39misinstance\u001b[39m(casted_key, \u001b[39mslice\u001b[39m) \u001b[39mor\u001b[39;00m (\n\u001b[1;32m   3794\u001b[0m         \u001b[39misinstance\u001b[39m(casted_key, abc\u001b[39m.\u001b[39mIterable)\n\u001b[1;32m   3795\u001b[0m         \u001b[39mand\u001b[39;00m \u001b[39many\u001b[39m(\u001b[39misinstance\u001b[39m(x, \u001b[39mslice\u001b[39m) \u001b[39mfor\u001b[39;00m x \u001b[39min\u001b[39;00m casted_key)\n\u001b[1;32m   3796\u001b[0m     ):\n\u001b[1;32m   3797\u001b[0m         \u001b[39mraise\u001b[39;00m InvalidIndexError(key)\n\u001b[0;32m-> 3798\u001b[0m     \u001b[39mraise\u001b[39;00m \u001b[39mKeyError\u001b[39;00m(key) \u001b[39mfrom\u001b[39;00m \u001b[39merr\u001b[39;00m\n\u001b[1;32m   3799\u001b[0m \u001b[39mexcept\u001b[39;00m \u001b[39mTypeError\u001b[39;00m:\n\u001b[1;32m   3800\u001b[0m     \u001b[39m# If we have a listlike key, _check_indexing_error will raise\u001b[39;00m\n\u001b[1;32m   3801\u001b[0m     \u001b[39m#  InvalidIndexError. Otherwise we fall through and re-raise\u001b[39;00m\n\u001b[1;32m   3802\u001b[0m     \u001b[39m#  the TypeError.\u001b[39;00m\n\u001b[1;32m   3803\u001b[0m     \u001b[39mself\u001b[39m\u001b[39m.\u001b[39m_check_indexing_error(key)\n",
      "\u001b[0;31mKeyError\u001b[0m: 'answer'"
     ]
    }
   ],
   "source": [
    "models = ['X', 'Y', 'Z']\n",
    "\n",
    "for i, df in enumerate(all_df_filtered):\n",
    "    df = pd.merge(df, df_test, how=\"inner\", on=\"question_id\")\n",
    "\n",
    "    df[\"correct\"] = np.where(df['result'] == df['answer'], 1, 0)\n",
    "\n",
    "    avg_score = df[\"correct\"].mean()\n",
    "\n",
    "    print(f'Average score of model {models[i]}: {avg_score : .2%}')\n",
    "    all_df_filtered[i] = df\n",
    "    \n",
    "\n"
   ]
  },
  {
   "cell_type": "markdown",
   "id": "69decfd8-8083-4c2f-8263-a153d55efede",
   "metadata": {},
   "source": [
    "### 1.5 (5 pt)\n",
    "\n",
    "Hmmm, something doesn't seem quite right. Let's investigate how \"balanced\" this dataset is:\n",
    "\n",
    "A. For each of the 57 subjects in the MMLU, compare the number of questions answered by each model. Print the subjects for which there is a more than 10% difference.\n",
    "\n",
    "B. Propose and implement a reasonable way to rebalance the results. (e.g., while throwing away 100% of the results perfectly rebalances the results, it is not reasonable).\n",
    "\n",
    "C. Finally, print the updated accuracy on the rebalanced data.\n",
    "\n",
    "**hint:**:\n",
    "- (A) For a given subject, let model X and model Y have answered 181 and 200 questions respectively. You can consider this a 10% difference from the perspective of X since: (200 - 181) / 181 > 0.10"
   ]
  },
  {
   "cell_type": "code",
   "execution_count": 90,
   "id": "c6da2d61",
   "metadata": {},
   "outputs": [],
   "source": [
    "def difference(df_1, df_2, name_1, name_2):\n",
    "\n",
    "    col1 = df_1[\"subject\"].value_counts().sort_index()\n",
    "    col2 = df_2[\"subject\"].value_counts().sort_index()\n",
    "\n",
    "    diff = np.abs(col2 - col1) / col1\n",
    "    unbalance_subjects = diff.loc[diff > 0.1]\n",
    "    print(f'From the perspective of {name_1} with respect to {name_2}: ')\n",
    "    for topic, value in unbalance_subjects.items():\n",
    "        print(f'{topic}: {value * 100 : 2.0f} %')\n",
    "\n"
   ]
  },
  {
   "cell_type": "code",
   "execution_count": 92,
   "id": "8a27510c",
   "metadata": {},
   "outputs": [
    {
     "name": "stdout",
     "output_type": "stream",
     "text": [
      "From the perspective of X with respect to Y: \n",
      "formal logic:  13 %\n",
      "logical fallacies:  12 %\n",
      "moral scenarios:  17 %\n"
     ]
    }
   ],
   "source": [
    "difference(all_df_filtered[0], all_df_filtered[1], \"X\", \"Y\")"
   ]
  },
  {
   "cell_type": "code",
   "execution_count": 93,
   "id": "81b5200f",
   "metadata": {},
   "outputs": [
    {
     "name": "stdout",
     "output_type": "stream",
     "text": [
      "From the perspective of X with respect to Z: \n",
      "college chemistry:  12 %\n",
      "college computer science:  13 %\n",
      "moral disputes:  24 %\n"
     ]
    }
   ],
   "source": [
    "difference(all_df_filtered[0], all_df_filtered[2], \"X\", \"Z\")"
   ]
  },
  {
   "cell_type": "code",
   "execution_count": 94,
   "id": "b3dee3da",
   "metadata": {},
   "outputs": [
    {
     "name": "stdout",
     "output_type": "stream",
     "text": [
      "From the perspective of Y with respect to X: \n",
      "formal logic:  11 %\n",
      "logical fallacies:  13 %\n",
      "moral scenarios:  15 %\n"
     ]
    }
   ],
   "source": [
    "difference(all_df_filtered[1], all_df_filtered[0], \"Y\", \"X\")"
   ]
  },
  {
   "cell_type": "code",
   "execution_count": 95,
   "id": "63a80546",
   "metadata": {},
   "outputs": [
    {
     "name": "stdout",
     "output_type": "stream",
     "text": [
      "From the perspective of Y with respect to Z: \n",
      "college chemistry:  14 %\n",
      "college computer science:  14 %\n",
      "computer security:  11 %\n",
      "moral disputes:  18 %\n",
      "moral scenarios:  11 %\n"
     ]
    }
   ],
   "source": [
    "difference(all_df_filtered[1], all_df_filtered[2], \"Y\", \"Z\")"
   ]
  },
  {
   "cell_type": "code",
   "execution_count": 96,
   "id": "b69a3111",
   "metadata": {},
   "outputs": [
    {
     "name": "stdout",
     "output_type": "stream",
     "text": [
      "From the perspective of Z with respect to X: \n",
      "college chemistry:  14 %\n",
      "college computer science:  15 %\n",
      "high school geography:  11 %\n",
      "moral disputes:  32 %\n"
     ]
    }
   ],
   "source": [
    "difference(all_df_filtered[2], all_df_filtered[0], \"Z\", \"X\")"
   ]
  },
  {
   "cell_type": "code",
   "execution_count": 97,
   "id": "9e798498",
   "metadata": {},
   "outputs": [
    {
     "name": "stdout",
     "output_type": "stream",
     "text": [
      "From the perspective of Z with respect to Y: \n",
      "college chemistry:  17 %\n",
      "college computer science:  17 %\n",
      "computer security:  13 %\n",
      "medical genetics:  10 %\n",
      "moral disputes:  22 %\n",
      "moral scenarios:  12 %\n"
     ]
    }
   ],
   "source": [
    "difference(all_df_filtered[2], all_df_filtered[1], \"Z\", \"Y\")"
   ]
  },
  {
   "cell_type": "code",
   "execution_count": 66,
   "id": "19463002-732b-405b-8b44-77f702bdb665",
   "metadata": {},
   "outputs": [
    {
     "data": {
      "text/plain": [
       "subject\n",
       "abstract algebra                         70\n",
       "anatomy                                 100\n",
       "astronomy                               108\n",
       "business ethics                          72\n",
       "clinical knowledge                      205\n",
       "college biology                         114\n",
       "college chemistry                        72\n",
       "college computer science                 73\n",
       "college mathematics                      77\n",
       "college medicine                        123\n",
       "college physics                          77\n",
       "computer security                        77\n",
       "conceptual physics                      175\n",
       "econometrics                             90\n",
       "electrical engineering                  110\n",
       "elementary mathematics                  281\n",
       "formal logic                             86\n",
       "global facts                             74\n",
       "high school biology                     223\n",
       "high school chemistry                   149\n",
       "high school computer science             76\n",
       "high school european history            114\n",
       "high school geography                   143\n",
       "high school government and politics     141\n",
       "high school macroeconomics              294\n",
       "high school mathematics                 193\n",
       "high school microeconomics              172\n",
       "high school physics                     112\n",
       "high school psychology                  402\n",
       "high school statistics                  148\n",
       "high school us history                  163\n",
       "high school world history               177\n",
       "human aging                             177\n",
       "human sexuality                          94\n",
       "international law                        79\n",
       "jurisprudence                            81\n",
       "logical fallacies                       115\n",
       "machine learning                         76\n",
       "management                               73\n",
       "marketing                               185\n",
       "medical genetics                         77\n",
       "miscellaneous                           586\n",
       "moral disputes                          260\n",
       "moral scenarios                         576\n",
       "nutrition                               235\n",
       "philosophy                              230\n",
       "prehistory                              246\n",
       "professional accounting                 202\n",
       "professional law                       1134\n",
       "professional medicine                   193\n",
       "professional psychology                 450\n",
       "public relations                         83\n",
       "security studies                        182\n",
       "sociology                               148\n",
       "us foreign policy                        74\n",
       "virology                                132\n",
       "world religions                         133\n",
       "Name: correct, dtype: int64"
      ]
     },
     "execution_count": 66,
     "metadata": {},
     "output_type": "execute_result"
    }
   ],
   "source": [
    "result = all_df_filtered[0].groupby(\"subject\")[\"correct\"].sum()\n",
    "result"
   ]
  },
  {
   "cell_type": "code",
   "execution_count": null,
   "id": "2fb8c324",
   "metadata": {},
   "outputs": [],
   "source": [
    "# B"
   ]
  },
  {
   "cell_type": "code",
   "execution_count": null,
   "id": "affc3746",
   "metadata": {},
   "outputs": [],
   "source": [
    "# C"
   ]
  },
  {
   "attachments": {},
   "cell_type": "markdown",
   "id": "292b2f61-0529-4b6d-a3a7-af786a4d79ae",
   "metadata": {},
   "source": [
    "## Task 2 (26 points): What do you mean A > D > B > C...?\n",
    "\n",
    "Nice work! Having successfully inspected, cleaned, and rebalanced the provided data, you head over to director of the government's NEUTRALITY project. Ms. Sakota is happy with your work so far, but worried that the sloppy intern might have done more undetected damage. To be sure, she orders a new set of evaluations of all models on both MMLU and another dataset.\n",
    "\n",
    "After cleaning up and rebalancing, you are left with the concatenated score files in the second folder `task_2`:\n",
    "```\n",
    "task_2/\n",
    "│\n",
    "└── df_mmlu_mmlu.csv\n",
    "│\n",
    "└── df_mmlu_other.csv\n",
    "```\n",
    "\n",
    "Each has a new column called `model_name`, which is one of `X, Y` or `Z`.\n",
    "\n",
    "\n",
    "\n",
    "_NOTE: **only** use data from `task_2` and `task_2_5` for this assignment! The values in `df_mmlu_mmlu.csv` will NOT be the same as the dataframes you finished in task 1. This is due to \"randomness\" or \"temperature\" in language model inference. This can slightly shift around generative results. (Conveniently: it also ensures any mistakes made in Task 1 don't propogate further ;) )_"
   ]
  },
  {
   "cell_type": "code",
   "execution_count": 331,
   "id": "a889a76b-e034-4d2f-929e-0ef1f250a0a0",
   "metadata": {},
   "outputs": [],
   "source": [
    "# PROVIDED CODE\n",
    "df_mmlu = pd.read_csv('task_2/lm_scores_mmlu.csv')\n",
    "df_other = pd.read_csv('task_2/lm_scores_other.csv')"
   ]
  },
  {
   "cell_type": "code",
   "execution_count": 99,
   "id": "99008c10",
   "metadata": {},
   "outputs": [
    {
     "data": {
      "text/html": [
       "<div>\n",
       "<style scoped>\n",
       "    .dataframe tbody tr th:only-of-type {\n",
       "        vertical-align: middle;\n",
       "    }\n",
       "\n",
       "    .dataframe tbody tr th {\n",
       "        vertical-align: top;\n",
       "    }\n",
       "\n",
       "    .dataframe thead th {\n",
       "        text-align: right;\n",
       "    }\n",
       "</style>\n",
       "<table border=\"1\" class=\"dataframe\">\n",
       "  <thead>\n",
       "    <tr style=\"text-align: right;\">\n",
       "      <th></th>\n",
       "      <th>result</th>\n",
       "      <th>question_id</th>\n",
       "      <th>question</th>\n",
       "      <th>A</th>\n",
       "      <th>B</th>\n",
       "      <th>C</th>\n",
       "      <th>D</th>\n",
       "      <th>answer</th>\n",
       "      <th>subject</th>\n",
       "      <th>correct</th>\n",
       "      <th>model_name</th>\n",
       "    </tr>\n",
       "  </thead>\n",
       "  <tbody>\n",
       "    <tr>\n",
       "      <th>0</th>\n",
       "      <td>B</td>\n",
       "      <td>0</td>\n",
       "      <td>Find the degree for the given field extension ...</td>\n",
       "      <td>0</td>\n",
       "      <td>4</td>\n",
       "      <td>2</td>\n",
       "      <td>6</td>\n",
       "      <td>B</td>\n",
       "      <td>abstract algebra</td>\n",
       "      <td>True</td>\n",
       "      <td>X</td>\n",
       "    </tr>\n",
       "    <tr>\n",
       "      <th>1</th>\n",
       "      <td>C</td>\n",
       "      <td>1</td>\n",
       "      <td>Let p = (1, 2, 5, 4)(2, 3) in S_5 . Find the i...</td>\n",
       "      <td>8</td>\n",
       "      <td>2</td>\n",
       "      <td>24</td>\n",
       "      <td>120</td>\n",
       "      <td>C</td>\n",
       "      <td>abstract algebra</td>\n",
       "      <td>True</td>\n",
       "      <td>X</td>\n",
       "    </tr>\n",
       "    <tr>\n",
       "      <th>2</th>\n",
       "      <td>D</td>\n",
       "      <td>2</td>\n",
       "      <td>Find all zeros in the indicated finite field o...</td>\n",
       "      <td>0</td>\n",
       "      <td>1</td>\n",
       "      <td>0,1</td>\n",
       "      <td>0,4</td>\n",
       "      <td>D</td>\n",
       "      <td>abstract algebra</td>\n",
       "      <td>True</td>\n",
       "      <td>X</td>\n",
       "    </tr>\n",
       "    <tr>\n",
       "      <th>3</th>\n",
       "      <td>B</td>\n",
       "      <td>3</td>\n",
       "      <td>Statement 1 | A factor group of a non-Abelian ...</td>\n",
       "      <td>True, True</td>\n",
       "      <td>False, False</td>\n",
       "      <td>True, False</td>\n",
       "      <td>False, True</td>\n",
       "      <td>B</td>\n",
       "      <td>abstract algebra</td>\n",
       "      <td>True</td>\n",
       "      <td>X</td>\n",
       "    </tr>\n",
       "    <tr>\n",
       "      <th>4</th>\n",
       "      <td>D</td>\n",
       "      <td>7</td>\n",
       "      <td>Statement 1 | A ring homomorphism is one to on...</td>\n",
       "      <td>True, True</td>\n",
       "      <td>False, False</td>\n",
       "      <td>True, False</td>\n",
       "      <td>False, True</td>\n",
       "      <td>D</td>\n",
       "      <td>abstract algebra</td>\n",
       "      <td>True</td>\n",
       "      <td>X</td>\n",
       "    </tr>\n",
       "  </tbody>\n",
       "</table>\n",
       "</div>"
      ],
      "text/plain": [
       "  result  question_id                                           question  \\\n",
       "0      B            0  Find the degree for the given field extension ...   \n",
       "1      C            1  Let p = (1, 2, 5, 4)(2, 3) in S_5 . Find the i...   \n",
       "2      D            2  Find all zeros in the indicated finite field o...   \n",
       "3      B            3  Statement 1 | A factor group of a non-Abelian ...   \n",
       "4      D            7  Statement 1 | A ring homomorphism is one to on...   \n",
       "\n",
       "            A             B            C            D answer  \\\n",
       "0           0             4            2            6      B   \n",
       "1           8             2           24          120      C   \n",
       "2           0             1          0,1          0,4      D   \n",
       "3  True, True  False, False  True, False  False, True      B   \n",
       "4  True, True  False, False  True, False  False, True      D   \n",
       "\n",
       "            subject  correct model_name  \n",
       "0  abstract algebra     True          X  \n",
       "1  abstract algebra     True          X  \n",
       "2  abstract algebra     True          X  \n",
       "3  abstract algebra     True          X  \n",
       "4  abstract algebra     True          X  "
      ]
     },
     "execution_count": 99,
     "metadata": {},
     "output_type": "execute_result"
    }
   ],
   "source": [
    "df_mmlu.head()"
   ]
  },
  {
   "cell_type": "code",
   "execution_count": 100,
   "id": "9655b9a4",
   "metadata": {},
   "outputs": [
    {
     "data": {
      "text/html": [
       "<div>\n",
       "<style scoped>\n",
       "    .dataframe tbody tr th:only-of-type {\n",
       "        vertical-align: middle;\n",
       "    }\n",
       "\n",
       "    .dataframe tbody tr th {\n",
       "        vertical-align: top;\n",
       "    }\n",
       "\n",
       "    .dataframe thead th {\n",
       "        text-align: right;\n",
       "    }\n",
       "</style>\n",
       "<table border=\"1\" class=\"dataframe\">\n",
       "  <thead>\n",
       "    <tr style=\"text-align: right;\">\n",
       "      <th></th>\n",
       "      <th>result</th>\n",
       "      <th>question_id</th>\n",
       "      <th>question</th>\n",
       "      <th>A</th>\n",
       "      <th>B</th>\n",
       "      <th>C</th>\n",
       "      <th>D</th>\n",
       "      <th>answer</th>\n",
       "      <th>correct</th>\n",
       "      <th>model_name</th>\n",
       "    </tr>\n",
       "  </thead>\n",
       "  <tbody>\n",
       "    <tr>\n",
       "      <th>0</th>\n",
       "      <td>B</td>\n",
       "      <td>0</td>\n",
       "      <td>Which factor will most likely cause a person t...</td>\n",
       "      <td>a leg muscle relaxing after exercise</td>\n",
       "      <td>a bacterial population in the bloodstream</td>\n",
       "      <td>several viral particles on the skin</td>\n",
       "      <td>carbohydrates being digested in the stomach</td>\n",
       "      <td>B</td>\n",
       "      <td>True</td>\n",
       "      <td>X</td>\n",
       "    </tr>\n",
       "    <tr>\n",
       "      <th>1</th>\n",
       "      <td>B</td>\n",
       "      <td>1</td>\n",
       "      <td>Lichens are symbiotic organisms made of green ...</td>\n",
       "      <td>carbon dioxide</td>\n",
       "      <td>food</td>\n",
       "      <td>protection</td>\n",
       "      <td>water</td>\n",
       "      <td>B</td>\n",
       "      <td>True</td>\n",
       "      <td>X</td>\n",
       "    </tr>\n",
       "    <tr>\n",
       "      <th>2</th>\n",
       "      <td>D</td>\n",
       "      <td>2</td>\n",
       "      <td>When a switch is used in an electrical circuit...</td>\n",
       "      <td>cause the charge to build.</td>\n",
       "      <td>increase and decrease the voltage.</td>\n",
       "      <td>cause the current to change direction.</td>\n",
       "      <td>stop and start the flow of current.</td>\n",
       "      <td>D</td>\n",
       "      <td>True</td>\n",
       "      <td>X</td>\n",
       "    </tr>\n",
       "    <tr>\n",
       "      <th>3</th>\n",
       "      <td>A</td>\n",
       "      <td>3</td>\n",
       "      <td>Which of the following is an example of an ass...</td>\n",
       "      <td>contact lens</td>\n",
       "      <td>motorcycle</td>\n",
       "      <td>raincoat</td>\n",
       "      <td>coffee pot</td>\n",
       "      <td>A</td>\n",
       "      <td>True</td>\n",
       "      <td>X</td>\n",
       "    </tr>\n",
       "    <tr>\n",
       "      <th>4</th>\n",
       "      <td>C</td>\n",
       "      <td>4</td>\n",
       "      <td>Rocks are classified as igneous, metamorphic, ...</td>\n",
       "      <td>their color</td>\n",
       "      <td>their shape</td>\n",
       "      <td>how they formed</td>\n",
       "      <td>the minerals they contain</td>\n",
       "      <td>C</td>\n",
       "      <td>True</td>\n",
       "      <td>X</td>\n",
       "    </tr>\n",
       "  </tbody>\n",
       "</table>\n",
       "</div>"
      ],
      "text/plain": [
       "  result  question_id                                           question  \\\n",
       "0      B            0  Which factor will most likely cause a person t...   \n",
       "1      B            1  Lichens are symbiotic organisms made of green ...   \n",
       "2      D            2  When a switch is used in an electrical circuit...   \n",
       "3      A            3  Which of the following is an example of an ass...   \n",
       "4      C            4  Rocks are classified as igneous, metamorphic, ...   \n",
       "\n",
       "                                      A  \\\n",
       "0  a leg muscle relaxing after exercise   \n",
       "1                        carbon dioxide   \n",
       "2            cause the charge to build.   \n",
       "3                          contact lens   \n",
       "4                           their color   \n",
       "\n",
       "                                           B  \\\n",
       "0  a bacterial population in the bloodstream   \n",
       "1                                       food   \n",
       "2         increase and decrease the voltage.   \n",
       "3                                 motorcycle   \n",
       "4                                their shape   \n",
       "\n",
       "                                        C  \\\n",
       "0     several viral particles on the skin   \n",
       "1                              protection   \n",
       "2  cause the current to change direction.   \n",
       "3                                raincoat   \n",
       "4                         how they formed   \n",
       "\n",
       "                                             D answer  correct model_name  \n",
       "0  carbohydrates being digested in the stomach      B     True          X  \n",
       "1                                        water      B     True          X  \n",
       "2          stop and start the flow of current.      D     True          X  \n",
       "3                                   coffee pot      A     True          X  \n",
       "4                    the minerals they contain      C     True          X  "
      ]
     },
     "execution_count": 100,
     "metadata": {},
     "output_type": "execute_result"
    }
   ],
   "source": [
    "df_other.head()"
   ]
  },
  {
   "cell_type": "code",
   "execution_count": 104,
   "id": "f5526d7a",
   "metadata": {},
   "outputs": [
    {
     "data": {
      "text/plain": [
       "11696"
      ]
     },
     "execution_count": 104,
     "metadata": {},
     "output_type": "execute_result"
    }
   ],
   "source": [
    "# df_mmlu[\"model_name\"].value_counts()[\"X\"] = Y = Z = 11696"
   ]
  },
  {
   "cell_type": "markdown",
   "id": "c31edde3-cc91-4d08-81c7-b5e98cf0ff9c",
   "metadata": {},
   "source": [
    "### 2.1 (4 pt)\n",
    "\n",
    "Let's explore the new results:\n",
    "\n",
    "A. Compute the mean accuracy and standard errors of each model on both datasets and print the results.\n",
    "\n",
    "B. Then, show your results in a bar plot using standard errors with a 95% confidence interval around the mean. Make sure the plot is easy to read and well annotated.\n",
    "\n",
    "C. /Discuss:/ the plot you created: (i) can you say that one of the models is the best? (ii) is there anything that seems odd?"
   ]
  },
  {
   "attachments": {},
   "cell_type": "markdown",
   "id": "20937a09",
   "metadata": {},
   "source": [
    "Old method\n",
    "true = df.groupby(\"model_name\")[\"correct\"].value_counts()[model][True]\n",
    "results_tot = df.groupby(\"model_name\")[\"correct\"].count()[model]\n",
    "accuracy = true / results_tot"
   ]
  },
  {
   "cell_type": "code",
   "execution_count": 211,
   "id": "fa9507ed",
   "metadata": {},
   "outputs": [],
   "source": [
    "def accuracy_and_std(df, model, df_name):\n",
    "    \n",
    "    mean = round(df.groupby(\"model_name\")[\"correct\"].mean()[model] * 100, 2)\n",
    "    std = round(df.groupby(\"model_name\")[\"correct\"].std()[model] * 100, 2)\n",
    "\n",
    "    print(f'Model {model} and dataset {df_name}, mean accuracy: {mean : 0.2f} % and std: {std : 0.2f}')\n",
    "\n",
    "    return mean, std\n",
    "        "
   ]
  },
  {
   "cell_type": "code",
   "execution_count": 212,
   "id": "1af5c476",
   "metadata": {},
   "outputs": [
    {
     "name": "stdout",
     "output_type": "stream",
     "text": [
      "0 0\n",
      "Model X and dataset df_mmlu, mean accuracy:  74.36 % and std:  43.67\n",
      "0 1\n",
      "Model X and dataset df_other, mean accuracy:  78.80 % and std:  40.88\n",
      "1 0\n",
      "Model Y and dataset df_mmlu, mean accuracy:  76.15 % and std:  42.62\n",
      "1 1\n",
      "Model Y and dataset df_other, mean accuracy:  72.09 % and std:  44.86\n",
      "2 0\n",
      "Model Z and dataset df_mmlu, mean accuracy:  65.60 % and std:  47.51\n",
      "2 1\n",
      "Model Z and dataset df_other, mean accuracy:  67.17 % and std:  46.96\n"
     ]
    }
   ],
   "source": [
    "models = ['X', 'Y', 'Z']\n",
    "datasets = [df_mmlu, df_other]\n",
    "dataset_names = [\"df_mmlu\", \"df_other\"]\n",
    "\n",
    "mean_all = np.zeros((2, 3))\n",
    "std_all = np.zeros((2, 3))\n",
    "\n",
    "for i, model in enumerate(models):\n",
    "    for j, dataset in enumerate(datasets):\n",
    "        mean, std = accuracy_and_std(dataset, model, dataset_names[j])\n",
    "        mean_all[j, i] = mean\n",
    "        std_all[j, i] = std"
   ]
  },
  {
   "cell_type": "code",
   "execution_count": 215,
   "id": "2598419b",
   "metadata": {},
   "outputs": [
    {
     "data": {
      "image/png": "[encoded data removed]",
      "text/plain": [
       "<Figure size 640x480 with 1 Axes>"
      ]
     },
     "metadata": {},
     "output_type": "display_data"
    }
   ],
   "source": [
    "x = np.arange(len(models))  # the label locations\n",
    "width = 0.25  # the width of the bars\n",
    "multiplier = 0\n",
    "\n",
    "fig, ax = plt.subplots(layout='constrained')\n",
    "\n",
    "for i, mean in enumerate(mean_all):\n",
    "\n",
    "    offset = width * multiplier\n",
    "    rects = ax.bar(x + offset, mean, width, label=dataset_names[i])\n",
    "    ax.bar_label(rects, padding=3)\n",
    "    ax.errorbar(x + offset, mean, xerr = 0.05, yerr = 2 * std_all[i], linestyle='') # 2 to get 95% confidence\n",
    "    multiplier += 1\n",
    "\n",
    "# Add some text for labels, title and custom x-axis tick labels, etc.\n",
    "ax.set_ylabel('Mean accuracy [%]')\n",
    "ax.set_title('Accuracy of the models')\n",
    "ax.set_xticks(x + width, models)\n",
    "ax.legend(loc='upper left', ncols=2)\n",
    "ax.set_ylim(0, 100)\n",
    "\n",
    "plt.show()"
   ]
  },
  {
   "attachments": {},
   "cell_type": "markdown",
   "id": "65c9fbfe",
   "metadata": {},
   "source": [
    "C. /Discuss:/\n",
    "Std are huge! the accuracy seems comparable for both datasets "
   ]
  },
  {
   "cell_type": "markdown",
   "id": "eee0ec62-f2d1-4bae-a6f6-221320d602cb",
   "metadata": {},
   "source": [
    "### 2.2 (5 pt)\n",
    "\n",
    "Ms. Sakota has assured you that both datasets contain questions of similar difficulty, so, what could be going on here?\n",
    "\n",
    "A. What is the distribution of correct answers (A, B, C, D) for each dataset? Create a bar chart to visualize this.\n",
    "\n",
    "B. Perform a chi-square test at $\\alpha = 0.05$, of independence to determine if there's a significant difference in the distribution of correct answers between the two datasets. What do you conclude?\n",
    "\n",
    "**hints**:\n",
    "- for (A), keep in mind that df_mmlu and df_other contain the results of all models, i.e., the `question_id` column is duplicated.\n",
    "- for (A), take care to clearly annotate the bar chart, e.g., title, y-label, legend.\n",
    "- for (B), clearly state the null hypothesis and alternative hypothesis\n",
    "- use the `chi2_contingency` function from `scipy.stats`\n",
    "- format your results from answer (A) as a 2D array"
   ]
  },
  {
   "cell_type": "code",
   "execution_count": 237,
   "id": "968ab6b3",
   "metadata": {},
   "outputs": [],
   "source": [
    "def correct_answers(df, model):\n",
    "\n",
    "    A = df.groupby([\"model_name\", \"answer\"])[\"correct\"].value_counts()[model][\"A\"][True]\n",
    "    B = df.groupby([\"model_name\", \"answer\"])[\"correct\"].value_counts()[model][\"B\"][True]\n",
    "    C = df.groupby([\"model_name\", \"answer\"])[\"correct\"].value_counts()[model][\"C\"][True]\n",
    "    D = df.groupby([\"model_name\", \"answer\"])[\"correct\"].value_counts()[model][\"D\"][True]\n",
    "\n",
    "    return A, B, C, D"
   ]
  },
  {
   "cell_type": "code",
   "execution_count": 238,
   "id": "9dee0713",
   "metadata": {},
   "outputs": [],
   "source": [
    "correct_A = np.zeros((2, 3))\n",
    "correct_B = np.zeros((2, 3))\n",
    "correct_C = np.zeros((2, 3))\n",
    "correct_D = np.zeros((2, 3))\n",
    "\n",
    "models = ['X', 'Y', 'Z']\n",
    "datasets = [df_mmlu, df_other]\n",
    "dataset_names = [\"df_mmlu\", \"df_other\"]\n",
    "\n",
    "for i, model in enumerate(models):\n",
    "    for j, dataset in enumerate(datasets):\n",
    "        A, B, C, D = correct_answers(dataset, model)\n",
    "        correct_A[j, i] = A\n",
    "        correct_B[j, i] = B\n",
    "        correct_C[j, i] = C\n",
    "        correct_D[j, i] = D"
   ]
  },
  {
   "cell_type": "code",
   "execution_count": 264,
   "id": "92392cd7",
   "metadata": {},
   "outputs": [
    {
     "data": {
      "image/png": "[encoded data removed]",
      "text/plain": [
       "<Figure size 640x480 with 1 Axes>"
      ]
     },
     "metadata": {},
     "output_type": "display_data"
    },
    {
     "data": {
      "image/png": "[encoded data removed]",
      "text/plain": [
       "<Figure size 640x480 with 1 Axes>"
      ]
     },
     "metadata": {},
     "output_type": "display_data"
    }
   ],
   "source": [
    "# for bar plot, should we say how many correct out of total?\n",
    "\n",
    "# Organize all correct values into one list of arrays\n",
    "correct_data = [correct_A, correct_B, correct_C, correct_D]\n",
    "bar_labels = ['A', 'B', 'C', 'D']  # Labels for each bar\n",
    "colors = ['blue', 'orange', 'green', 'red']  # Colors for A, B, C, D\n",
    "\n",
    "width = 0.2  # Width of each bar\n",
    "\n",
    "# Create separate plots for each dataset\n",
    "for j, dataset_name in enumerate(dataset_names):\n",
    "    fig, ax = plt.subplots(layout='constrained')\n",
    "    x = np.arange(len(models))  # X-axis label locations for the models\n",
    "    \n",
    "    # Plot bars for A, B, C, D for the current dataset\n",
    "    for i in range(len(correct_data)):  # Loop over A, B, C, D\n",
    "        offset = width * i  # Calculate the offset for each bar group\n",
    "        rects = ax.bar(x + offset, correct_data[i][j], width, color=colors[i])\n",
    "        \n",
    "        # Label each bar with the corresponding letter (A, B, C, D)\n",
    "        ax.bar_label(rects, labels=[bar_labels[i]] * len(rects), padding=3)\n",
    "\n",
    "\n",
    "    # Add some text for labels, title and custom x-axis tick labels, etc.\n",
    "    ax.set_ylabel('Correct answers')\n",
    "    ax.set_title(f'Accuracy of the models for {dataset_name}')\n",
    "    ax.set_xticks(x_with_space + 1.5 * width, models)  # Centering the model labels\n",
    "    ax.set_ylim(0, 3600)\n",
    "\n",
    "    plt.show()"
   ]
  },
  {
   "attachments": {},
   "cell_type": "markdown",
   "id": "6aa53ef9",
   "metadata": {},
   "source": [
    "Step 1: State the Hypotheses\n",
    "Null Hypothesis (\n",
    "�\n",
    "0\n",
    "H \n",
    "0\n",
    "​\n",
    " ): There is no significant difference in the distribution of correct answers between the two datasets. (The datasets are independent.)\n",
    "Alternative Hypothesis (\n",
    "�\n",
    "�\n",
    "H \n",
    "a\n",
    "​\n",
    " ): There is a significant difference in the distribution of correct answers between the two datasets. (The datasets are not independent.)"
   ]
  },
  {
   "cell_type": "code",
   "execution_count": 265,
   "id": "8455bae6",
   "metadata": {},
   "outputs": [
    {
     "name": "stdout",
     "output_type": "stream",
     "text": [
      "Chi-square Statistic: 1443.1619101339897\n",
      "P-value: 0.0\n",
      "Degrees of Freedom: 3\n",
      "Expected Frequencies:\n",
      " [[4580.53404236 6531.75395095 6889.67896514 7274.03304156]\n",
      " [1485.46595764 2118.24604905 2234.32103486 2358.96695844]]\n",
      "Reject the null hypothesis (H0). There is a significant difference in the distribution of correct answers between the two datasets.\n"
     ]
    }
   ],
   "source": [
    "from scipy.stats import chi2_contingency\n",
    "\n",
    "# Step 1: Format the data as a 2D array\n",
    "# Combine the counts for A, B, C, D across the two datasets\n",
    "data = np.array([\n",
    "    [correct_A[0].sum(), correct_B[0].sum(), correct_C[0].sum(), correct_D[0].sum()],  # Dataset 1 (row 0)\n",
    "    [correct_A[1].sum(), correct_B[1].sum(), correct_C[1].sum(), correct_D[1].sum()]   # Dataset 2 (row 1)\n",
    "])\n",
    "\n",
    "# Step 2: Perform the Chi-square test\n",
    "chi2_stat, p_value, dof, expected = chi2_contingency(data)\n",
    "\n",
    "# Step 3: Output the results\n",
    "alpha = 0.05  # significance level\n",
    "\n",
    "print(\"Chi-square Statistic:\", chi2_stat)\n",
    "print(\"P-value:\", p_value)\n",
    "print(\"Degrees of Freedom:\", dof)\n",
    "print(\"Expected Frequencies:\\n\", expected)\n",
    "\n",
    "# Step 4: Conclusion based on the p-value\n",
    "if p_value < alpha:\n",
    "    print(\"Reject the null hypothesis (H0). There is a significant difference in the distribution of correct answers between the two datasets.\")\n",
    "else:\n",
    "    print(\"Fail to reject the null hypothesis (H0). There is no significant difference in the distribution of correct answers between the two datasets.\")"
   ]
  },
  {
   "attachments": {},
   "cell_type": "markdown",
   "id": "df7a4edb",
   "metadata": {},
   "source": [
    "Interpretation\n",
    "Chi-square Statistic (1443.16):\n",
    "\n",
    "The Chi-square statistic measures how far the observed counts deviate from the expected counts under the null hypothesis (that there is no difference between the datasets). A value of 1443.16 is very large, suggesting that the distribution of correct answers in the two datasets differs significantly. This value is indicative of a strong association between the dataset and the correct answers.\n",
    "P-value (0.0):\n",
    "\n",
    "A p-value of 0.0 (or effectively zero) indicates that the probability of observing such a large Chi-square statistic under the null hypothesis is extremely low. This provides strong evidence against the null hypothesis.\n",
    "In statistical terms, we can say that the observed data is highly inconsistent with the null hypothesis, leading us to reject it. This means there is strong evidence to support the claim that the distributions of correct answers between the two datasets differ significantly.\n",
    "Degrees of Freedom (3):\n",
    "\n",
    "The degrees of freedom in this context, calculated as \n",
    "(\n",
    "number of rows\n",
    "−\n",
    "1\n",
    ")\n",
    "×\n",
    "(\n",
    "number of columns\n",
    "−\n",
    "1\n",
    ")\n",
    "(number of rows−1)×(number of columns−1) (i.e., \n",
    "(\n",
    "2\n",
    "−\n",
    "1\n",
    ")\n",
    "×\n",
    "(\n",
    "4\n",
    "−\n",
    "1\n",
    ")\n",
    "=\n",
    "3\n",
    "(2−1)×(4−1)=3), indicates the number of independent comparisons that can be made. The larger the degrees of freedom, the more reliable the Chi-square approximation.\n",
    "Expected Frequencies:\n",
    "\n",
    "The expected frequencies tell us what the counts for A, B, C, and D would be if the two datasets were similar in their distributions. The fact that the observed counts deviate significantly from these expected frequencies supports the conclusion that there are indeed differences in the distributions.\n",
    "For instance, the expected frequency for A in dataset 1 is about 4580.53, while the observed count (e.g., correct_A[0].sum()) appears to be much higher than expected, indicating that the first dataset may be scoring significantly better in that category.\n",
    "Conclusion\n",
    "Overall Conclusion:\n",
    "\n",
    "Based on the results of the Chi-square test, we reject the null hypothesis (\n",
    "�\n",
    "0\n",
    "H \n",
    "0\n",
    "​\n",
    " ). This means there is statistically significant evidence to conclude that the distribution of correct answers between the two datasets (df_mmlu and df_other) differs significantly.\n",
    "Practically, this could imply that the models used to generate answers in these two datasets yield different accuracies, indicating potential differences in the underlying data characteristics, the models' performance, or both.\n",
    "Implications:\n",
    "\n",
    "The results suggest that the choice of dataset has a substantial impact on the accuracy of answers provided by the models. This could lead to further investigation into why such differences exist—whether due to dataset characteristics, the nature of the questions, or other factors.\n",
    "Depending on your objectives, you may want to delve deeper into the nature of the differences. For example, visualizing the results using bar charts could help illustrate where the discrepancies lie between the datasets in terms of correct answers across the categories (A, B, C, D)."
   ]
  },
  {
   "cell_type": "markdown",
   "id": "2d3125ad-5a7e-44e7-999a-a0ff99855d39",
   "metadata": {},
   "source": [
    "### 2.3 (7 pt)\n",
    "\n",
    "Let's dive in deeper:\n",
    "\n",
    "A. What is language model X's mean accuracy conditioned on the four answer options for each dataset?\n",
    "\n",
    "B. Compare LM X's performance when the correct answer is \"A\" between the two datasets. Use a T-test with CI = 0.95. What do you conclude?\n",
    "\n",
    "C. Compare LM X's performance when the correct answer is \"A\" vs. \"C or D\" for each dataset. Use a T-test with CI = 0.95. What do you conclude?"
   ]
  },
  {
   "cell_type": "code",
   "execution_count": 271,
   "id": "8fc4af46",
   "metadata": {},
   "outputs": [],
   "source": [
    "def accuracy(answer, sum_true):\n",
    "\n",
    "    return round(answer / sum_true * 100, 2)"
   ]
  },
  {
   "cell_type": "code",
   "execution_count": 278,
   "id": "39097a11-8efe-46d1-8bc3-5587bb58d199",
   "metadata": {},
   "outputs": [
    {
     "name": "stdout",
     "output_type": "stream",
     "text": [
      "Model X and dataset df_mmlu\n",
      "Accuracy on A: 18.02 %\n",
      "Accuracy on B: 27.04 %\n",
      "Accuracy on C: 27.7 %\n",
      "Accuracy on D: 27.24 %\n",
      "Model X and dataset df_other\n",
      "Accuracy on A: 35.45 %\n",
      "Accuracy on B: 30.38 %\n",
      "Accuracy on C: 21.1 %\n",
      "Accuracy on D: 13.07 %\n"
     ]
    }
   ],
   "source": [
    "datasets = [df_mmlu, df_other]\n",
    "dataset_names = [\"df_mmlu\", \"df_other\"]\n",
    "acc_A = []\n",
    "\n",
    "for j, df in enumerate(datasets):\n",
    "    A, B, C, D = correct_answers(df, \"X\")\n",
    "    sum_true = df[(df[\"model_name\"] == \"X\") & (df[\"correct\"] == True)].shape[0]\n",
    "    acc_A.append(accuracy(A, sum_true))\n",
    "    print(f'Model X and dataset {dataset_names[j]}\\nAccuracy on A: {accuracy(A, sum_true)} %\\nAccuracy on B: {accuracy(B, sum_true)} %\\nAccuracy on C: {accuracy(C, sum_true)} %\\nAccuracy on D: {accuracy(D, sum_true)} %')"
   ]
  },
  {
   "attachments": {},
   "cell_type": "markdown",
   "id": "be4189dc",
   "metadata": {},
   "source": [
    "Null hypothesis (H₀): There is no difference in the mean performance (accuracy) of Language Model X for the correct answer \"A\" between the two datasets.\n",
    "\n",
    "Alternative hypothesis (H₁): There is a difference in the mean performance of Language Model X for the correct answer \"A\" between the two datasets.\n",
    "\n",
    "If the p-value is smaller than your significance level (typically 0.05 for a 95% CI), you can reject the null hypothesis.\n"
   ]
  },
  {
   "cell_type": "code",
   "execution_count": 279,
   "id": "9ae67c09",
   "metadata": {},
   "outputs": [
    {
     "data": {
      "text/plain": [
       "[18.02, 35.45]"
      ]
     },
     "execution_count": 279,
     "metadata": {},
     "output_type": "execute_result"
    }
   ],
   "source": [
    "acc_A"
   ]
  },
  {
   "cell_type": "code",
   "execution_count": 287,
   "id": "6db4026c",
   "metadata": {},
   "outputs": [],
   "source": [
    "xmmlu_A = df_mmlu[(df_mmlu['model_name'] == 'X') & (df_mmlu['answer'] == 'A')]['correct']\n",
    "xmmlu_A = mmlu_A.astype(int)  # True becomes 1, False becomes 0\n",
    "\n",
    "xother_A = df_other[(df_other['model_name'] == 'X') & (df_other['answer'] == 'A')]['correct']\n",
    "xother_A = other_A.astype(int)"
   ]
  },
  {
   "cell_type": "code",
   "execution_count": 289,
   "id": "79b6f0fc",
   "metadata": {},
   "outputs": [
    {
     "name": "stdout",
     "output_type": "stream",
     "text": [
      "T-statistic: -0.21161116511164932\n",
      "P-value: 0.8324287723934077\n"
     ]
    }
   ],
   "source": [
    "from scipy.stats import ttest_ind\n",
    "\n",
    "# Perform a two-sample T-test\n",
    "t_stat, p_value = ttest_ind(mmlu_A, other_A, equal_var=False)\n",
    "\n",
    "print(\"T-statistic:\", t_stat)\n",
    "print(\"P-value:\", p_value)\n"
   ]
  },
  {
   "attachments": {},
   "cell_type": "markdown",
   "id": "94486848",
   "metadata": {},
   "source": [
    "The p-value is greater than 0.05,so I fail to reject the null hypothesis, meaning the performance of Model X when the correct answer is \"A\" is not significantly different between the two datasets."
   ]
  },
  {
   "cell_type": "code",
   "execution_count": 291,
   "id": "636af6a6",
   "metadata": {},
   "outputs": [
    {
     "name": "stdout",
     "output_type": "stream",
     "text": [
      "Confidence Interval: (-0.013741742881110613, 0.011065337970068905)\n"
     ]
    }
   ],
   "source": [
    "# confidence interval\n",
    "import scipy.stats as stats\n",
    "\n",
    "\n",
    "# Calculate the mean difference\n",
    "mean_diff = np.mean(mmlu_A) - np.mean(other_A)\n",
    "\n",
    "# Standard error of the difference in means\n",
    "se_diff = np.sqrt(np.var(mmlu_A) / len(mmlu_A) + np.var(other_A) / len(other_A))\n",
    "\n",
    "# Confidence interval at 95%\n",
    "ci_lower = mean_diff - stats.t.ppf(0.975, df=min(len(mmlu_A), len(other_A)-1)) * se_diff\n",
    "ci_upper = mean_diff + stats.t.ppf(0.975, df=min(len(mmlu_A), len(other_A)-1)) * se_diff\n",
    "\n",
    "print(\"Confidence Interval: ({}, {})\".format(ci_lower, ci_upper))\n"
   ]
  },
  {
   "cell_type": "markdown",
   "id": "33848ff9-2604-4e48-b5df-3207dc81e9a9",
   "metadata": {},
   "source": [
    "### 2.4 (2 pt)\n",
    "\n",
    "What an intriguing finding! \n",
    "\n",
    "A. Print the mean accuracies conditioned on the correct answer for all LMs for each dataset.\n",
    "\n",
    "B. /Discuss:/ What do you observe?"
   ]
  },
  {
   "cell_type": "code",
   "execution_count": 292,
   "id": "ec53ce2c-866e-440a-ac79-7813cb756782",
   "metadata": {},
   "outputs": [
    {
     "name": "stdout",
     "output_type": "stream",
     "text": [
      "answer                     A         B         C         D\n",
      "model_name dataset                                        \n",
      "X          mmlu     0.972688  0.799185  0.707905  0.633592\n",
      "           other    0.974026  0.806452  0.676407  0.603744\n",
      "Y          mmlu     0.623836  0.688073  0.733470  0.904252\n",
      "           other    0.625232  0.663978  0.762987  0.920437\n",
      "Z          mmlu     0.643079  0.641182  0.669115  0.661139\n",
      "           other    0.680891  0.667563  0.662338  0.677067\n"
     ]
    }
   ],
   "source": [
    "# First, combine both datasets into one DataFrame, with a new column to distinguish datasets\n",
    "df_mmlu['dataset'] = 'mmlu'\n",
    "df_other['dataset'] = 'other'\n",
    "df_combined = pd.concat([df_mmlu, df_other])\n",
    "\n",
    "# Group by model_name, answer, and dataset, and calculate the mean accuracy (True/False as 1/0)\n",
    "mean_accuracies = df_combined.groupby(['model_name', 'answer', 'dataset'])['correct'].mean().reset_index()\n",
    "\n",
    "# Pivot the table to make it more readable (optional)\n",
    "pivot_table = mean_accuracies.pivot_table(index=['model_name', 'dataset'], columns='answer', values='correct')\n",
    "\n",
    "# Print the pivot table for mean accuracies\n",
    "print(pivot_table)"
   ]
  },
  {
   "attachments": {},
   "cell_type": "markdown",
   "id": "4ce58e47",
   "metadata": {},
   "source": [
    "It looks like for given answer, the mean is almost the same for both models."
   ]
  },
  {
   "attachments": {},
   "cell_type": "markdown",
   "id": "ccdd9d3c-5a03-4b30-84f7-a7dfbee1373e",
   "metadata": {},
   "source": [
    "### 2.5 (2 pt)\n",
    "\n",
    "Concerned with your findings so far, you quickly consult with Ms. Sakota. After thinking it over, Ms. Sakota concludes that more tests are needed. She orders a second round of MMLU results. However, the clever Ms. Sakota thinks of the following twist: while keeping questions fixed, she randomly permutes the position of the correct answer. The new results can be found in the folder `data/task_2_5/`:\n",
    "```\n",
    "task_2_5/\n",
    "│\n",
    "└── df_mmlu_mmlu_shuffle.csv\n",
    "```\n",
    "\n",
    "/Discuss:/ Why would Ms. Sakota do this?"
   ]
  },
  {
   "attachments": {},
   "cell_type": "markdown",
   "id": "64cc586a",
   "metadata": {},
   "source": [
    "Maybe the models learned the position of the correct answers, so permuting will avoid this."
   ]
  },
  {
   "attachments": {},
   "cell_type": "markdown",
   "id": "b9150ae0-dbaa-4c88-bf80-ec03127c6945",
   "metadata": {},
   "source": [
    "### 2.6 (4 pt)\n",
    "\n",
    "Increasingly sceptical of the language models' performance, you read up on proper testing practices. You stumble upon the concept of [test-rested stability](https://en.wikipedia.org/wiki/Repeatability), which roughtly states that:\n",
    "\n",
    "\"_Measurements taken by a single person or instrument on the same item, under the same conditions, and in a short period of time, should have the same results._\"\n",
    "\n",
    "In our case, we would assume an LM would have the same performance on a given question regardless of the correct answer position. One way of testing this is by using the following metric:\n",
    "\n",
    "$$\\text{test-retest metric} = \\frac{1}{N}\\sum_{i=1}^N \\frac{1}{M}\\sum_{j=1}^M c^i_0 c_j^i,$$\n",
    "\n",
    "where $c^i_0 \\in \\{0, 1\\}$ indicates whether the model answers the $i^{\\text{th}}$ question correctly (1 if correct, 0 if incorrect). $c_j^i$ indicates whether the model answers the $i^{\\text{th}}$ question correctly in the $j^{\\text{th}}$ shuffled version of the answer label content. Finally, $M$ is the total number of shuffles and $N$ is the dataset size.\n",
    "\n",
    "Task: compute the test-retest metric for each language model using the original `df_mmlu_mmlu.csv` file and the new `df_mmlu_mmlu_shuffle.csv` file. Using a bar plot, visualize your results by comparing the accuracy of the original `df_mmlu_mmlu.csv` and the test-retest scores.\n",
    "\n",
    "**hints**\n",
    "- what is $M$ in our case?\n",
    "\n",
    "(bonus: no points, but so much sweet, sweet knowledge - check out [the following article](https://arxiv.org/pdf/2406.19470v1))"
   ]
  },
  {
   "cell_type": "code",
   "execution_count": 293,
   "id": "7dce7639",
   "metadata": {},
   "outputs": [],
   "source": [
    "df_mmlu_shuffle = pd.read_csv('task_2_5/df_mmlu_mmlu_shuffle.csv')"
   ]
  },
  {
   "cell_type": "code",
   "execution_count": 302,
   "id": "401caaa2",
   "metadata": {},
   "outputs": [],
   "source": [
    "# List to store results\n",
    "test_retest_scores = []\n",
    "\n",
    "# Unique models in the dataset\n",
    "models = df_mmlu['model_name'].unique()\n",
    "\n",
    "# Iterate over each model\n",
    "for model in models:\n",
    "    # Filter data for the current model\n",
    "    model_scores = df_mmlu[df_mmlu['model_name'] == model]\n",
    "    model_shuffle_scores = df_mmlu_shuffle[df_mmlu_shuffle['model_name'] == model]\n",
    "    \n",
    "    # Total number of questions (N)\n",
    "    N = len(model_scores)\n",
    "    \n",
    "    # Total number of shuffles (M)\n",
    "    M = (df_mmlu['answer'].values != df_mmlu_shuffle['answer'].values).sum()    \n",
    "    # Initialize test-retest score for the model\n",
    "    test_retest_score = 0\n",
    "    \n",
    "    # Iterate over each question\n",
    "    for question_id in model_scores['question_id'].unique():\n",
    "        # Correctness for the original question (c_0^i)\n",
    "        c_0_i = model_scores[model_scores['question_id'] == question_id]['correct'].values[0]\n",
    "        \n",
    "        # Correctness for all shuffled versions of the question (c_j^i for each j)\n",
    "        shuffled_correctness = model_shuffle_scores[model_shuffle_scores['question_id'] == question_id]['correct']\n",
    "        \n",
    "        # Compute the average product for this question\n",
    "        avg_product = (c_0_i * shuffled_correctness).mean()  # Mean over all M shuffles\n",
    "        \n",
    "        # Sum for test-retest score\n",
    "        test_retest_score += avg_product\n",
    "    \n",
    "    # Compute final test-retest score for the model\n",
    "    test_retest_score /= N  # Divide by number of questions\n",
    "    \n",
    "    # Store result\n",
    "    test_retest_scores.append({'model_name': model, 'test_retest_score': test_retest_score})\n"
   ]
  },
  {
   "cell_type": "code",
   "execution_count": 303,
   "id": "d1e77bb8",
   "metadata": {},
   "outputs": [
    {
     "data": {
      "text/plain": [
       "[{'model_name': 'X', 'test_retest_score': 0.588406292749658},\n",
       " {'model_name': 'Y', 'test_retest_score': 0.5716484268125855},\n",
       " {'model_name': 'Z', 'test_retest_score': 0.44160396716826267}]"
      ]
     },
     "execution_count": 303,
     "metadata": {},
     "output_type": "execute_result"
    }
   ],
   "source": [
    "test_retest_scores"
   ]
  },
  {
   "attachments": {},
   "cell_type": "markdown",
   "id": "b70bee6e-0c81-4f5a-b1a8-16a96aa2ae17",
   "metadata": {},
   "source": [
    "### 2.7 (2 pt)\n",
    "\n",
    "A. Using the unshuffled data: For each LM, print the distribution of the answers they give as well as the accuracy conditioned on the answer they give.\n",
    "\n",
    "B. /Discuss:/ Describe what you observe\n",
    "\n",
    "\n",
    "[bonus: not scored, but again _that sweet, sweet knowledge_] Could you think of a plausible explanation?"
   ]
  },
  {
   "cell_type": "code",
   "execution_count": 304,
   "id": "4956581b-d047-46cb-ae71-1508a9a0b466",
   "metadata": {},
   "outputs": [
    {
     "name": "stdout",
     "output_type": "stream",
     "text": [
      "Answer Distribution for Each Language Model:\n",
      "answer         A     B     C     D\n",
      "model_name                        \n",
      "X           1611  2943  3403  3739\n",
      "Y           1611  2943  3403  3739\n",
      "Z           1611  2943  3403  3739\n",
      "\n",
      "Accuracy Conditioned on the Answer Given:\n",
      "answer             A         B         C         D\n",
      "model_name                                        \n",
      "X           0.972688  0.799185  0.707905  0.633592\n",
      "Y           0.623836  0.688073  0.733470  0.904252\n",
      "Z           0.643079  0.641182  0.669115  0.661139\n"
     ]
    }
   ],
   "source": [
    "# # Answer distribution\n",
    "answer_distribution = df_mmlu.groupby(['model_name', 'answer']).size().unstack(fill_value=0)\n",
    "print(\"Answer Distribution for Each Language Model:\")\n",
    "print(answer_distribution)\n",
    "\n",
    "# Calculate accuracy conditioned on the answer given\n",
    "correct_counts = df_mmlu[df_mmlu['correct']].groupby(['model_name', 'answer']).size().unstack(fill_value=0)\n",
    "total_counts = df_mmlu.groupby(['model_name', 'answer']).size().unstack(fill_value=0)\n",
    "accuracy = correct_counts.div(total_counts).fillna(0)\n",
    "\n",
    "print(\"\\nAccuracy Conditioned on the Answer Given:\")\n",
    "print(accuracy)"
   ]
  },
  {
   "cell_type": "markdown",
   "id": "65639228",
   "metadata": {},
   "source": [
    "B. /Discuss:/"
   ]
  },
  {
   "cell_type": "markdown",
   "id": "ce3186fe-ef8e-4af3-9a07-a6081d454e5a",
   "metadata": {},
   "source": [
    "## Task 3 (16 points): What do Questions and Answers look like for a Language Model?\n",
    "\n",
    "While you feel pretty good about the tests you conducted so far, something still bothers you: what if the language models don't see the data like you do? Suddenly, you receive a phone call from a wise AI sage in the West, _Westoda_:\n",
    "\n",
    "```\n",
    "\"Hmm, correct you are, young padawan, to question how the world is seen by large language models! Simple 'text' it is not, hmm? No, no, no! Characters and words, the way of puny humans, this is not, heh heh heh.\n",
    "\n",
    "'Tokens', they use, yes! Mysterious and powerful, these tokens are. Expand our vocabulary, they do, beyond the simple 'a to Z'. Chunky blocks of text, they become, yes! 'Hello world', a simple phrase it may seem. But to a language model, '[24912, 2375]' it might appear, yes! Confusing, it is, hmm?\n",
    "\n",
    "Wise, it would be, to explore these MMLU data points through the eyes of a language model, you think? Yes, yes! Much to learn, there is. The ways of the tokens, understand you must, if truly comprehend the great LMs, you wish to.\n",
    "Meditate on this, you should. The force of natural language processing, strong it is. But patience, you must have, my young padawan. For only through great study and contemplation, will the mysteries of the tokens reveal themselves to you, they will. Yes, hmmm!\"\n",
    "```\n",
    "\n",
    "Admittingly, Westoda at times speaks in riddles… However, he was explaining a crucial aspect of modern LMs called [Tokenization](https://learn.microsoft.com/en-us/dotnet/ai/conceptual/understanding-tokens):\n",
    "\n",
    "\n",
    "“Tokens are words, character sets, or combinations of words and punctuation that are used by [language models (LMs)] to decompose text into. Tokenization is the first step in training”\n",
    "\n",
    "Instead of characters, LMs process natural language using “tokens”. While this is useful for a number of reasons, it does at times introduce some “unintuitive” behavior…"
   ]
  },
  {
   "cell_type": "code",
   "execution_count": 305,
   "id": "e2c66517-938b-4331-9eea-1b23fe4ad9e7",
   "metadata": {},
   "outputs": [
    {
     "name": "stdout",
     "output_type": "stream",
     "text": [
      "humans see: \"hello world\" --> language models see: [24912, 2375]\n"
     ]
    }
   ],
   "source": [
    "# PROVIDED CODE\n",
    "\n",
    "try:\n",
    "    import tiktoken\n",
    "except Exception as e:\n",
    "    print('installing tiktoken package')\n",
    "    \n",
    "    !pip install tiktoken\n",
    "    \n",
    "    import tiktoken\n",
    "\n",
    "def tokenize_text(s):\n",
    "    enc = tiktoken.encoding_for_model('gpt-4o')\n",
    "    tokens = enc.encode(str(s))\n",
    "    return tokens\n",
    "\n",
    "example_string = 'hello world'\n",
    "print(f'humans see: \"{example_string}\" --> language models see: {tokenize_text(example_string)}')"
   ]
  },
  {
   "cell_type": "markdown",
   "id": "3c8019ee-7d52-496f-afff-c96f2f9db08c",
   "metadata": {},
   "source": [
    "### 3.1 (5 pt)\n",
    "\n",
    "Use the provided code in the cell above to \"see the world through the eyes of a language model\":\n",
    "\n",
    "A. Tokenize the questions of the original MMLU data provided in task 1: `task_1/mmlu_data/test.csv` and plot the token distribution (the frequency of each token).\n",
    "\n",
    "B. Same as (A), but now for the answers in columns (columns \"A\", \"B\", \"C\", and \"D\").\n",
    "\n",
    "C. Isolate the tokens for the strings \"A\", \"B\", \"C\", and \"D\", then, for their occurances in both questions and answers, print their relative distribution to each other.\n",
    "\n",
    "**hint**\n",
    "- There are a _lot_ of tokens, consider using a cutoff point and log scale\n",
    "- For (c), they should sum to 1"
   ]
  },
  {
   "cell_type": "code",
   "execution_count": 313,
   "id": "948f5f6e",
   "metadata": {},
   "outputs": [],
   "source": [
    "from collections import Counter\n"
   ]
  },
  {
   "cell_type": "code",
   "execution_count": 308,
   "id": "a9a1e97b-3a31-41b1-a9c3-fb84cb1740d9",
   "metadata": {},
   "outputs": [],
   "source": [
    "df_mmlu[\"tokens\"] = df_mmlu[\"question\"].apply(tokenize_text)"
   ]
  },
  {
   "cell_type": "code",
   "execution_count": 336,
   "id": "e2de5bbb",
   "metadata": {},
   "outputs": [],
   "source": [
    "def plot_token_distribution(name_col_tok:str, type:str):\n",
    "\n",
    "    # Flattening the list of tokens for counting\n",
    "    all_tokens = [token for sublist in df_mmlu[name_col_tok] for token in sublist]\n",
    "\n",
    "    # Counting frequency of each token\n",
    "    token_counts = Counter(all_tokens)\n",
    "\n",
    "    # Creating a dataframe for token counts\n",
    "    token_df = pd.DataFrame(token_counts.items(), columns=['Token', 'Frequency'])\n",
    "    token_df['Log_Frequency'] = np.log1p(token_df['Frequency'])  # log1p is log(1 + x) to avoid log(0) issues\n",
    "\n",
    "    # Plotting the token frequency distribution\n",
    "    plt.figure(figsize=(10, 6))\n",
    "    plt.bar(token_df['Token'], token_df['Log_Frequency'])\n",
    "    plt.xlabel('Token')\n",
    "    plt.ylabel('Log-Transformed Frequency')\n",
    "    plt.title(f'Log-Transformed {type} Token Frequency Distribution')\n",
    "    plt.xticks(rotation=90)\n",
    "    plt.show()\n"
   ]
  },
  {
   "cell_type": "code",
   "execution_count": 337,
   "id": "56c65c25",
   "metadata": {},
   "outputs": [
    {
     "data": {
      "image/png": "[encoded data removed]",
      "text/plain": [
       "<Figure size 1000x600 with 1 Axes>"
      ]
     },
     "metadata": {},
     "output_type": "display_data"
    },
    {
     "data": {
      "image/png": "[encoded data removed]",
      "text/plain": [
       "<Figure size 1000x600 with 1 Axes>"
      ]
     },
     "metadata": {},
     "output_type": "display_data"
    },
    {
     "data": {
      "image/png": "[encoded data removed]",
      "text/plain": [
       "<Figure size 1000x600 with 1 Axes>"
      ]
     },
     "metadata": {},
     "output_type": "display_data"
    },
    {
     "data": {
      "image/png": "[encoded data removed]",
      "text/plain": [
       "<Figure size 1000x600 with 1 Axes>"
      ]
     },
     "metadata": {},
     "output_type": "display_data"
    },
    {
     "data": {
      "image/png": "[encoded data removed]",
      "text/plain": [
       "<Figure size 1000x600 with 1 Axes>"
      ]
     },
     "metadata": {},
     "output_type": "display_data"
    }
   ],
   "source": [
    "cols = [\"question\", \"A\", \"B\", \"C\", \"D\"]\n",
    "for col in cols:\n",
    "    df_mmlu[col+\"_tok\"] = df_mmlu[col].apply(tokenize_text)\n",
    "    plot_token_distribution(name_col_tok=col+\"_tok\", type= col)\n"
   ]
  },
  {
   "cell_type": "code",
   "execution_count": 360,
   "id": "4e345d2d",
   "metadata": {},
   "outputs": [],
   "source": [
    "# isolate tokens\n",
    "# Flatten tokens for \"A\", \"B\", \"C\", \"D\" (convert to list if not already)\n",
    "letters_tok = []\n",
    "for col in cols[1:]:\n",
    "    tok = tokenize_text(col)[0]\n",
    "    letters_tok.append(tok)"
   ]
  },
  {
   "cell_type": "code",
   "execution_count": 364,
   "id": "5f16779f",
   "metadata": {},
   "outputs": [],
   "source": [
    "tok_dict = dict.fromkeys(letters_tok, 0)"
   ]
  },
  {
   "cell_type": "code",
   "execution_count": 366,
   "id": "604d20ae",
   "metadata": {},
   "outputs": [],
   "source": [
    "token_columns = [\"question_tok\", \"A_tok\", \"B_tok\", \"C_tok\", \"D_tok\"]\n",
    "# Iterate over the token columns and count occurrences of tokens\n",
    "for col in token_columns:\n",
    "    df_mmlu[col].apply(lambda tokens: [tok_dict.update({tok: tok_dict.get(tok, 0) + 1}) for tok in tokens if tok in tok_dict])"
   ]
  },
  {
   "cell_type": "code",
   "execution_count": 368,
   "id": "2faba85a",
   "metadata": {},
   "outputs": [
    {
     "name": "stdout",
     "output_type": "stream",
     "text": [
      "Relative Distribution of Tokens:\n",
      "Token 32: 78.86%\n",
      "Token 33: 5.90%\n",
      "Token 34: 10.38%\n",
      "Token 35: 4.86%\n"
     ]
    }
   ],
   "source": [
    "# Calculate the total occurrences of all tokens\n",
    "total_count = sum(tok_dict.values())\n",
    "\n",
    "# Calculate and print the relative distribution of each token\n",
    "print(\"Relative Distribution of Tokens:\")\n",
    "for token, count in tok_dict.items():\n",
    "    relative_frequency = count / total_count if total_count > 0 else 0\n",
    "    print(f\"Token {token}: {relative_frequency:.2%}\")\n",
    "    "
   ]
  },
  {
   "cell_type": "markdown",
   "id": "a674929c-68e1-4cd8-97b3-efa0cdae4874",
   "metadata": {},
   "source": [
    "### 3.2 (3 pt)\n",
    "\n",
    "What if the number of \"A\", \"B\", \"C\", and \"D\" tokens in the question and answer pairs could influence a language model's decisions?\n",
    "\n",
    "A. For each combined question-answers pair, compute: \n",
    "1. the number of \"A\", \"B\", \"C\", and \"D\" tokens; and\n",
    "2. the total number of tokens.\n",
    "3. then, group by the \"correct\" answer and compute the mean frequency of A, B, C, and D tokens and the total number of tokens. \n",
    "4. finally, print your results\n",
    "\n",
    "B. /Discuss:/ What do you think of the hypothesis that the frequency of A, B, C, and D tokens could influence answers?\n"
   ]
  },
  {
   "cell_type": "code",
   "execution_count": null,
   "id": "25419cc1-f058-4c51-a0aa-577272b8b578",
   "metadata": {},
   "outputs": [],
   "source": [
    "# A"
   ]
  },
  {
   "cell_type": "markdown",
   "id": "3ea8a279",
   "metadata": {},
   "source": [
    "B. /Discuss:/"
   ]
  },
  {
   "cell_type": "markdown",
   "id": "af25ef95-d2ce-4112-87f7-8b0a52755e2a",
   "metadata": {},
   "source": [
    "### 3.3 (4 pt)\n",
    "\n",
    "Three of the most important considerations when deciding between language models are:\n",
    "\n",
    "Quality\n",
    "Costs\n",
    "Speed\n",
    "\n",
    "So far, much of your analysis has focused on quality. However, the government has indicated that they are quite concerned about both the total costs and speed as well. Specifically, it has been brought to their attention that a new `turbo` model has been launched! \n",
    "\n",
    "This model is both cheaper and faster than the models you evaluated so far. However, there is a catch: the context length* is much smaller than that of the other LMS. Namely, it can only process **300** tokens during inference. Meanwhile, the other models can process up to 100K tokens! \n",
    "\n",
    "*_The “context length” refers to the number of tokens that can be given to an LM as input._\n",
    "\n",
    "A. Are there subjects where using the cheaper model might be problematic? I.e., where part of the question and answer(s) might not fit completely in the context?\n",
    "\n",
    "B. /Discuss:/ Can you think of a strategy that would balance the needs of the government?\n",
    "\n",
    "**hint**:\n",
    "- An LM needs to have both the question and the different answer options in its context"
   ]
  },
  {
   "cell_type": "code",
   "execution_count": null,
   "id": "a88a6fa3-2735-44d7-9944-076cc9f679ed",
   "metadata": {},
   "outputs": [],
   "source": [
    "# A"
   ]
  },
  {
   "cell_type": "markdown",
   "id": "47f8a44a",
   "metadata": {},
   "source": [
    "B. /Dicsuss:/"
   ]
  },
  {
   "cell_type": "markdown",
   "id": "110f07bf-558f-467c-8f66-d88db561d455",
   "metadata": {},
   "source": [
    "### 3.4 (4 pt)\n",
    "\n",
    "/Discuss:/ The time has come to give your final recommendation on the use of LMs in education to the government! Taking into account everything you analyzed in all the preceding tasks (1, 2, and 3), please write a short recommendation consisting of 4 bullet points discussing your concerns.\n",
    "\n",
    "**hint**\n",
    "- Try to use the MECE framework: _Mutually Exclusive Collectively Exhaustive_"
   ]
  },
  {
   "cell_type": "markdown",
   "id": "434a5fa5",
   "metadata": {},
   "source": [
    "/Discuss:/\n",
    "1. \n",
    "\n",
    "2. \n",
    "\n",
    "3. \n",
    "\n",
    "4. "
   ]
  }
 ],
 "metadata": {
  "kernelspec": {
   "display_name": "Python 3 (ipykernel)",
   "language": "python",
   "name": "python3"
  },
  "language_info": {
   "codemirror_mode": {
    "name": "ipython",
    "version": 3
   },
   "file_extension": ".py",
   "mimetype": "text/x-python",
   "name": "python",
   "nbconvert_exporter": "python",
   "pygments_lexer": "ipython3",
   "version": "3.12.2"
  }
 },
 "nbformat": 4,
 "nbformat_minor": 5
}
